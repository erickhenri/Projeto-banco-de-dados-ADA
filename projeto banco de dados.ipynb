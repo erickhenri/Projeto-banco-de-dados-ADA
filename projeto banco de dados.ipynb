{
 "cells": [
  {
   "cell_type": "markdown",
   "metadata": {},
   "source": [
    "# Projeto Banco de Dados I\n",
    "### Professor Rogério Mainardes\n",
    "### Alunos Erick Henrique e Paulo Vitor "
   ]
  },
  {
   "cell_type": "markdown",
   "metadata": {},
   "source": [
    "Esse projeto consiste na análise descritiva e de 10 perguntas que serão respondidas através do uso de SQL para um dataset.\n",
    "O dataset escolhido está disponível no [github](https://github.com/ValdisW/datasets/blob/master/video-game-sales.csv)."
   ]
  },
  {
   "cell_type": "markdown",
   "metadata": {},
   "source": [
    "Os dados escolhidos mostram as vendas de jogos de videogame lançados entre 1980 e 2020 que tiveram mais de 100.000 vendas nas regiões América do Norte, União Europeia, Japão ou outros (resto do mundo). Na tabela, as colunas *_sales mostram as vendas em milhões de unidades."
   ]
  },
  {
   "cell_type": "markdown",
   "metadata": {},
   "source": [
    "Análise descritiva:\n",
    "\n",
    "- Qual as tipagens das colunas?;\n",
    "- Quantos nulos temos em cada coluna?;\n",
    "- Quantos valores únicos temos nas colunas categoricas?;\n",
    "- Existem outliers nos dados numéricos? Se sim, como lidar com eles?;\n",
    "\n",
    "10 perguntas:\n",
    "\n",
    "- Qual a soma de todos os jogos vendidos no Wii?\n",
    "- Quais foram os jogos mais vendidos entre 2010 e 2016?\n",
    "- Qual região foi responsável pela maior quantidade de vendas  de jogos?\n",
    "- Quais as 3 plataformas com mais jogos vendidos?\n",
    "- Quais os 10 jogos mais vendidos no japão?\n",
    "- Quantos jogos foram lançados no ano de 2008?\n",
    "- Quais as 3 plataformas com mais jogos lançados?\n",
    "- A soma das vendas dos 3 jogo lançado em maior número de plataforma?"
   ]
  },
  {
   "cell_type": "code",
   "execution_count": 1,
   "metadata": {
    "vscode": {
     "languageId": "sql"
    }
   },
   "outputs": [],
   "source": [
    "-- Criação da tabela videogame_sales no postgres\n",
    "CREATE TABLE videogame_sales(\n",
    "    ranking integer,\n",
    "    game_name varchar(200),\n",
    "    platform varchar(20),\n",
    "    release_year smallint,\n",
    "    genre varchar(20),\n",
    "    publisher varchar(50),\n",
    "    na_sales real,\n",
    "    eu_sales real,\n",
    "    jp_sales real,\n",
    "    other_sales real,\n",
    "    global_sales real\n",
    ");"
   ]
  },
  {
   "cell_type": "code",
   "execution_count": null,
   "metadata": {
    "vscode": {
     "languageId": "sql"
    }
   },
   "outputs": [],
   "source": [
    "-- cópia dos dados do arquivo videogame-sales para o postgres\n",
    "COPY videogame_sales \n",
    "FROM 'caminho/do/arquivo/arquivo.csv'\n",
    "WITH(\n",
    "    FORMAT csv,\n",
    "    DELIMITER ',', \n",
    "    HEADER,\n",
    "    NULL 'N/A'\n",
    ");"
   ]
  },
  {
   "cell_type": "markdown",
   "metadata": {},
   "source": [
    "### Conectando com o banco de dados"
   ]
  },
  {
   "cell_type": "code",
   "execution_count": 4,
   "metadata": {},
   "outputs": [
    {
     "name": "stdout",
     "output_type": "stream",
     "text": [
      "Requirement already satisfied: sqlalchemy in /home/paulosantos/.local/lib/python3.8/site-packages (2.0.19)\n",
      "Requirement already satisfied: greenlet!=0.4.17; platform_machine == \"aarch64\" or (platform_machine == \"ppc64le\" or (platform_machine == \"x86_64\" or (platform_machine == \"amd64\" or (platform_machine == \"AMD64\" or (platform_machine == \"win32\" or platform_machine == \"WIN32\"))))) in /home/paulosantos/.local/lib/python3.8/site-packages (from sqlalchemy) (2.0.2)\n",
      "Requirement already satisfied: typing-extensions>=4.2.0 in /home/paulosantos/.local/lib/python3.8/site-packages (from sqlalchemy) (4.7.1)\n",
      "^C\n",
      "\u001b[31mERROR: Operation cancelled by user\u001b[0m\n",
      "Requirement already satisfied: pandas in /home/paulosantos/.local/lib/python3.8/site-packages (2.0.1)\n",
      "Requirement already satisfied: numpy>=1.20.3; python_version < \"3.10\" in /home/paulosantos/.local/lib/python3.8/site-packages (from pandas) (1.24.3)\n",
      "Requirement already satisfied: python-dateutil>=2.8.2 in /home/paulosantos/.local/lib/python3.8/site-packages (from pandas) (2.8.2)\n",
      "Requirement already satisfied: pytz>=2020.1 in /home/paulosantos/.local/lib/python3.8/site-packages (from pandas) (2023.3)\n",
      "Requirement already satisfied: tzdata>=2022.1 in /home/paulosantos/.local/lib/python3.8/site-packages (from pandas) (2023.3)\n",
      "Requirement already satisfied: six>=1.5 in /usr/lib/python3/dist-packages (from python-dateutil>=2.8.2->pandas) (1.14.0)\n",
      "Requirement already satisfied: pandasql in /home/paulosantos/.local/lib/python3.8/site-packages (0.7.3)\n",
      "Requirement already satisfied: sqlalchemy in /home/paulosantos/.local/lib/python3.8/site-packages (from pandasql) (2.0.19)\n",
      "Requirement already satisfied: numpy in /home/paulosantos/.local/lib/python3.8/site-packages (from pandasql) (1.24.3)\n",
      "Requirement already satisfied: pandas in /home/paulosantos/.local/lib/python3.8/site-packages (from pandasql) (2.0.1)\n",
      "Requirement already satisfied: typing-extensions>=4.2.0 in /home/paulosantos/.local/lib/python3.8/site-packages (from sqlalchemy->pandasql) (4.7.1)\n",
      "Requirement already satisfied: greenlet!=0.4.17; platform_machine == \"aarch64\" or (platform_machine == \"ppc64le\" or (platform_machine == \"x86_64\" or (platform_machine == \"amd64\" or (platform_machine == \"AMD64\" or (platform_machine == \"win32\" or platform_machine == \"WIN32\"))))) in /home/paulosantos/.local/lib/python3.8/site-packages (from sqlalchemy->pandasql) (2.0.2)\n",
      "Requirement already satisfied: pytz>=2020.1 in /home/paulosantos/.local/lib/python3.8/site-packages (from pandas->pandasql) (2023.3)\n",
      "Requirement already satisfied: python-dateutil>=2.8.2 in /home/paulosantos/.local/lib/python3.8/site-packages (from pandas->pandasql) (2.8.2)\n",
      "Requirement already satisfied: tzdata>=2022.1 in /home/paulosantos/.local/lib/python3.8/site-packages (from pandas->pandasql) (2023.3)\n",
      "Requirement already satisfied: six>=1.5 in /usr/lib/python3/dist-packages (from python-dateutil>=2.8.2->pandas->pandasql) (1.14.0)\n"
     ]
    }
   ],
   "source": [
    "# Instalando libs necessárias\n",
    "!pip install sqlalchemy\n",
    "!pip install pandas\n",
    "!pip install pandasql"
   ]
  },
  {
   "cell_type": "code",
   "execution_count": 31,
   "metadata": {},
   "outputs": [],
   "source": [
    "# Importa as libs instaladas\n",
    "\n",
    "from sqlalchemy import create_engine\n",
    "import pandas as pd\n",
    "import pandasql as ps"
   ]
  },
  {
   "cell_type": "code",
   "execution_count": 87,
   "metadata": {},
   "outputs": [],
   "source": [
    "# Configura conexão com o banco\n",
    "\n",
    "SGBD = \"postgresql+psycopg2\"\n",
    "USER = \"postgres\"\n",
    "SENHA = \"123\"\n",
    "HOST = \"localhost\"\n",
    "DATABASE = \"Video game dataset\"\n",
    "\n",
    "engine = create_engine(f\"{SGBD}://{USER}:{SENHA}@{HOST}/{DATABASE}\")\n",
    "conn = engine.connect()"
   ]
  },
  {
   "cell_type": "code",
   "execution_count": 52,
   "metadata": {},
   "outputs": [
    {
     "data": {
      "text/html": [
       "<div>\n",
       "<style scoped>\n",
       "    .dataframe tbody tr th:only-of-type {\n",
       "        vertical-align: middle;\n",
       "    }\n",
       "\n",
       "    .dataframe tbody tr th {\n",
       "        vertical-align: top;\n",
       "    }\n",
       "\n",
       "    .dataframe thead th {\n",
       "        text-align: right;\n",
       "    }\n",
       "</style>\n",
       "<table border=\"1\" class=\"dataframe\">\n",
       "  <thead>\n",
       "    <tr style=\"text-align: right;\">\n",
       "      <th></th>\n",
       "      <th>ranking</th>\n",
       "      <th>game_name</th>\n",
       "      <th>platform</th>\n",
       "      <th>release_year</th>\n",
       "      <th>genre</th>\n",
       "      <th>publisher</th>\n",
       "      <th>na_sales</th>\n",
       "      <th>eu_sales</th>\n",
       "      <th>jp_sales</th>\n",
       "      <th>other_sales</th>\n",
       "      <th>global_sales</th>\n",
       "    </tr>\n",
       "  </thead>\n",
       "  <tbody>\n",
       "    <tr>\n",
       "      <th>0</th>\n",
       "      <td>1</td>\n",
       "      <td>Wii Sports</td>\n",
       "      <td>Wii</td>\n",
       "      <td>2006</td>\n",
       "      <td>Sports</td>\n",
       "      <td>Nintendo</td>\n",
       "      <td>41.49</td>\n",
       "      <td>29.02</td>\n",
       "      <td>3.77</td>\n",
       "      <td>8.46</td>\n",
       "      <td>82.74</td>\n",
       "    </tr>\n",
       "    <tr>\n",
       "      <th>1</th>\n",
       "      <td>2</td>\n",
       "      <td>Super Mario Bros.</td>\n",
       "      <td>NES</td>\n",
       "      <td>1985</td>\n",
       "      <td>Platform</td>\n",
       "      <td>Nintendo</td>\n",
       "      <td>29.08</td>\n",
       "      <td>3.58</td>\n",
       "      <td>6.81</td>\n",
       "      <td>0.77</td>\n",
       "      <td>40.24</td>\n",
       "    </tr>\n",
       "    <tr>\n",
       "      <th>2</th>\n",
       "      <td>3</td>\n",
       "      <td>Mario Kart Wii</td>\n",
       "      <td>Wii</td>\n",
       "      <td>2008</td>\n",
       "      <td>Racing</td>\n",
       "      <td>Nintendo</td>\n",
       "      <td>15.85</td>\n",
       "      <td>12.88</td>\n",
       "      <td>3.79</td>\n",
       "      <td>3.31</td>\n",
       "      <td>35.82</td>\n",
       "    </tr>\n",
       "    <tr>\n",
       "      <th>3</th>\n",
       "      <td>4</td>\n",
       "      <td>Wii Sports Resort</td>\n",
       "      <td>Wii</td>\n",
       "      <td>2009</td>\n",
       "      <td>Sports</td>\n",
       "      <td>Nintendo</td>\n",
       "      <td>15.75</td>\n",
       "      <td>11.01</td>\n",
       "      <td>3.28</td>\n",
       "      <td>2.96</td>\n",
       "      <td>33.00</td>\n",
       "    </tr>\n",
       "  </tbody>\n",
       "</table>\n",
       "</div>"
      ],
      "text/plain": [
       "   ranking          game_name platform  release_year     genre publisher   \n",
       "0        1         Wii Sports      Wii          2006    Sports  Nintendo  \\\n",
       "1        2  Super Mario Bros.      NES          1985  Platform  Nintendo   \n",
       "2        3     Mario Kart Wii      Wii          2008    Racing  Nintendo   \n",
       "3        4  Wii Sports Resort      Wii          2009    Sports  Nintendo   \n",
       "\n",
       "   na_sales  eu_sales  jp_sales  other_sales  global_sales  \n",
       "0     41.49     29.02      3.77         8.46         82.74  \n",
       "1     29.08      3.58      6.81         0.77         40.24  \n",
       "2     15.85     12.88      3.79         3.31         35.82  \n",
       "3     15.75     11.01      3.28         2.96         33.00  "
      ]
     },
     "execution_count": 52,
     "metadata": {},
     "output_type": "execute_result"
    }
   ],
   "source": [
    "# Consulta teste\n",
    "pd.read_sql_query(\n",
    "    \"\"\"\n",
    "    SELECT \n",
    "        * \n",
    "    FROM \n",
    "        videogame_sales\n",
    "    LIMIT 4\n",
    "    \"\"\", \n",
    "    con=conn\n",
    ")"
   ]
  },
  {
   "cell_type": "markdown",
   "metadata": {},
   "source": [
    "### Análise Descritiva"
   ]
  },
  {
   "cell_type": "markdown",
   "metadata": {},
   "source": [
    "#### Tipagem das colunas"
   ]
  },
  {
   "cell_type": "code",
   "execution_count": 62,
   "metadata": {},
   "outputs": [
    {
     "data": {
      "text/html": [
       "<div>\n",
       "<style scoped>\n",
       "    .dataframe tbody tr th:only-of-type {\n",
       "        vertical-align: middle;\n",
       "    }\n",
       "\n",
       "    .dataframe tbody tr th {\n",
       "        vertical-align: top;\n",
       "    }\n",
       "\n",
       "    .dataframe thead th {\n",
       "        text-align: right;\n",
       "    }\n",
       "</style>\n",
       "<table border=\"1\" class=\"dataframe\">\n",
       "  <thead>\n",
       "    <tr style=\"text-align: right;\">\n",
       "      <th></th>\n",
       "      <th>column_name</th>\n",
       "      <th>data_type</th>\n",
       "    </tr>\n",
       "  </thead>\n",
       "  <tbody>\n",
       "    <tr>\n",
       "      <th>0</th>\n",
       "      <td>ranking</td>\n",
       "      <td>integer</td>\n",
       "    </tr>\n",
       "    <tr>\n",
       "      <th>1</th>\n",
       "      <td>game_name</td>\n",
       "      <td>character varying</td>\n",
       "    </tr>\n",
       "    <tr>\n",
       "      <th>2</th>\n",
       "      <td>platform</td>\n",
       "      <td>character varying</td>\n",
       "    </tr>\n",
       "    <tr>\n",
       "      <th>3</th>\n",
       "      <td>release_year</td>\n",
       "      <td>smallint</td>\n",
       "    </tr>\n",
       "    <tr>\n",
       "      <th>4</th>\n",
       "      <td>genre</td>\n",
       "      <td>character varying</td>\n",
       "    </tr>\n",
       "    <tr>\n",
       "      <th>5</th>\n",
       "      <td>publisher</td>\n",
       "      <td>character varying</td>\n",
       "    </tr>\n",
       "    <tr>\n",
       "      <th>6</th>\n",
       "      <td>na_sales</td>\n",
       "      <td>real</td>\n",
       "    </tr>\n",
       "    <tr>\n",
       "      <th>7</th>\n",
       "      <td>eu_sales</td>\n",
       "      <td>real</td>\n",
       "    </tr>\n",
       "    <tr>\n",
       "      <th>8</th>\n",
       "      <td>jp_sales</td>\n",
       "      <td>real</td>\n",
       "    </tr>\n",
       "    <tr>\n",
       "      <th>9</th>\n",
       "      <td>other_sales</td>\n",
       "      <td>real</td>\n",
       "    </tr>\n",
       "    <tr>\n",
       "      <th>10</th>\n",
       "      <td>global_sales</td>\n",
       "      <td>real</td>\n",
       "    </tr>\n",
       "  </tbody>\n",
       "</table>\n",
       "</div>"
      ],
      "text/plain": [
       "     column_name          data_type\n",
       "0        ranking            integer\n",
       "1      game_name  character varying\n",
       "2       platform  character varying\n",
       "3   release_year           smallint\n",
       "4          genre  character varying\n",
       "5      publisher  character varying\n",
       "6       na_sales               real\n",
       "7       eu_sales               real\n",
       "8       jp_sales               real\n",
       "9    other_sales               real\n",
       "10  global_sales               real"
      ]
     },
     "execution_count": 62,
     "metadata": {},
     "output_type": "execute_result"
    }
   ],
   "source": [
    "pd.read_sql_query(\n",
    "    \"\"\"\n",
    "    SELECT \n",
    "        column_name, data_type\n",
    "    FROM \n",
    "        information_schema.columns\n",
    "    WHERE\n",
    "        table_schema = 'public' AND table_name = 'videogame_sales'\n",
    "    \"\"\", \n",
    "    con=conn\n",
    ")"
   ]
  },
  {
   "cell_type": "markdown",
   "metadata": {},
   "source": [
    "Information schema é um schema criado automaticamente pelo postgres e que contém informações de todas as colunas no banco de dados. Filtramos esse schema para mostrar apenas dados da tabela que criamos (videogame_sales) e, especificamente, as colunas column_name e data_type.\n",
    "Para verificar outras informações presentes nesse schema, altere o 'SELECT' para '*'."
   ]
  },
  {
   "cell_type": "markdown",
   "metadata": {},
   "source": [
    "#### Quantidade de valores nulos em cada coluna"
   ]
  },
  {
   "cell_type": "code",
   "execution_count": 71,
   "metadata": {},
   "outputs": [
    {
     "data": {
      "text/html": [
       "<div>\n",
       "<style scoped>\n",
       "    .dataframe tbody tr th:only-of-type {\n",
       "        vertical-align: middle;\n",
       "    }\n",
       "\n",
       "    .dataframe tbody tr th {\n",
       "        vertical-align: top;\n",
       "    }\n",
       "\n",
       "    .dataframe thead th {\n",
       "        text-align: right;\n",
       "    }\n",
       "</style>\n",
       "<table border=\"1\" class=\"dataframe\">\n",
       "  <thead>\n",
       "    <tr style=\"text-align: right;\">\n",
       "      <th></th>\n",
       "      <th>nulos_ranking</th>\n",
       "      <th>nulos_game_name</th>\n",
       "      <th>nulos_platform</th>\n",
       "      <th>nulos_release_year</th>\n",
       "      <th>nulos_genre</th>\n",
       "      <th>nulos_publisher</th>\n",
       "      <th>nulos_na_sales</th>\n",
       "      <th>nulos_eu_sales</th>\n",
       "      <th>nulos_jp_sales</th>\n",
       "      <th>nulos_other_sales</th>\n",
       "      <th>nulos_global_sales</th>\n",
       "    </tr>\n",
       "  </thead>\n",
       "  <tbody>\n",
       "    <tr>\n",
       "      <th>0</th>\n",
       "      <td>0</td>\n",
       "      <td>0</td>\n",
       "      <td>0</td>\n",
       "      <td>271</td>\n",
       "      <td>0</td>\n",
       "      <td>58</td>\n",
       "      <td>0</td>\n",
       "      <td>0</td>\n",
       "      <td>0</td>\n",
       "      <td>0</td>\n",
       "      <td>0</td>\n",
       "    </tr>\n",
       "  </tbody>\n",
       "</table>\n",
       "</div>"
      ],
      "text/plain": [
       "   nulos_ranking  nulos_game_name  nulos_platform  nulos_release_year   \n",
       "0              0                0               0                 271  \\\n",
       "\n",
       "   nulos_genre  nulos_publisher  nulos_na_sales  nulos_eu_sales   \n",
       "0            0               58               0               0  \\\n",
       "\n",
       "   nulos_jp_sales  nulos_other_sales  nulos_global_sales  \n",
       "0               0                  0                   0  "
      ]
     },
     "execution_count": 71,
     "metadata": {},
     "output_type": "execute_result"
    }
   ],
   "source": [
    "pd.read_sql_query(\n",
    "    \"\"\"\n",
    "    SELECT\n",
    "\t    COUNT(*) FILTER (WHERE ranking IS NULL) AS nulos_ranking,\n",
    "\t    COUNT(*) FILTER (WHERE game_name IS NULL) AS nulos_game_name,\n",
    "        COUNT(*) FILTER (WHERE platform IS NULL) AS nulos_platform,\n",
    "        COUNT(*) FILTER (WHERE release_year IS NULL) AS nulos_release_year,\n",
    "        COUNT(*) FILTER (WHERE genre IS NULL) AS nulos_genre,\n",
    "        COUNT(*) FILTER (WHERE publisher IS NULL) AS nulos_publisher,\n",
    "        COUNT(*) FILTER (WHERE na_sales IS NULL) AS nulos_na_sales,\n",
    "        COUNT(*) FILTER (WHERE eu_sales IS NULL) AS nulos_eu_sales,\n",
    "        COUNT(*) FILTER (WHERE jp_sales IS NULL) AS nulos_jp_sales,\n",
    "        COUNT(*) FILTER (WHERE other_sales IS NULL) AS nulos_other_sales,\n",
    "        COUNT(*) FILTER (WHERE global_sales IS NULL) AS nulos_global_sales\n",
    "    FROM\n",
    "        videogame_sales\n",
    "    \"\"\", \n",
    "    con=conn\n",
    ")"
   ]
  },
  {
   "cell_type": "markdown",
   "metadata": {},
   "source": [
    "A consulta acima conta todos os elementos presentes em uma coluna em que foi aplicado um filtro que mostra apenas os elementos de valor NULL, repetindo essa mesma contagem e aplicação de filtro para cada uma das colunas.\n",
    "Assim, temos a contagem de elementos nulos em cada uma das colunas."
   ]
  },
  {
   "cell_type": "markdown",
   "metadata": {},
   "source": [
    "#### Valores únicos nas colunas de variáveis categóricas"
   ]
  },
  {
   "cell_type": "markdown",
   "metadata": {},
   "source": [
    "Temos as seguintes colunas como representantes de variáveis categóricas:\n",
    "- Plataforma\n",
    "- Ano de lançamento\n",
    "- Gênero\n",
    "- Empresa desenvolvedora\n",
    "\n",
    "A consulta abaixo pode nos mostrar o número de categorias distintas (valores únicos) em cada uma das colunas"
   ]
  },
  {
   "cell_type": "code",
   "execution_count": 91,
   "metadata": {},
   "outputs": [
    {
     "data": {
      "text/html": [
       "<div>\n",
       "<style scoped>\n",
       "    .dataframe tbody tr th:only-of-type {\n",
       "        vertical-align: middle;\n",
       "    }\n",
       "\n",
       "    .dataframe tbody tr th {\n",
       "        vertical-align: top;\n",
       "    }\n",
       "\n",
       "    .dataframe thead th {\n",
       "        text-align: right;\n",
       "    }\n",
       "</style>\n",
       "<table border=\"1\" class=\"dataframe\">\n",
       "  <thead>\n",
       "    <tr style=\"text-align: right;\">\n",
       "      <th></th>\n",
       "      <th>unique_platform_count</th>\n",
       "      <th>unique_release_year_count</th>\n",
       "      <th>unique_genre_count</th>\n",
       "      <th>unique_publisher_count</th>\n",
       "    </tr>\n",
       "  </thead>\n",
       "  <tbody>\n",
       "    <tr>\n",
       "      <th>0</th>\n",
       "      <td>31</td>\n",
       "      <td>39</td>\n",
       "      <td>12</td>\n",
       "      <td>578</td>\n",
       "    </tr>\n",
       "  </tbody>\n",
       "</table>\n",
       "</div>"
      ],
      "text/plain": [
       "   unique_platform_count  unique_release_year_count  unique_genre_count   \n",
       "0                     31                         39                  12  \\\n",
       "\n",
       "   unique_publisher_count  \n",
       "0                     578  "
      ]
     },
     "execution_count": 91,
     "metadata": {},
     "output_type": "execute_result"
    }
   ],
   "source": [
    "pd.read_sql_query(\n",
    "    \"\"\"\n",
    "    SELECT \n",
    "\t    count(DISTINCT platform) AS unique_platform_count,\n",
    "\t    count(DISTINCT release_year) AS unique_release_year_count,\n",
    "\t    count(DISTINCT genre) AS unique_genre_count,\n",
    "\t    count(DISTINCT publisher) AS unique_publisher_count\n",
    "    FROM\n",
    "        videogame_sales\n",
    "    \"\"\", \n",
    "    con=conn\n",
    ")"
   ]
  },
  {
   "cell_type": "markdown",
   "metadata": {},
   "source": [
    "A consulta acima conta os valores distintos em cada uma das colunas e nos retorna essa contagem."
   ]
  },
  {
   "cell_type": "markdown",
   "metadata": {},
   "source": [
    "#### Outliers nas colunas numéricas"
   ]
  },
  {
   "cell_type": "markdown",
   "metadata": {},
   "source": [
    "Como reperesentantes de variáveis numéricas temos as seguintes colunas:\n",
    "- na_sales\n",
    "- eu_sales\n",
    "- jp_sales\n",
    "- other_sales\n",
    "- global_sales"
   ]
  },
  {
   "cell_type": "markdown",
   "metadata": {},
   "source": [
    "##### Definição de outlier"
   ]
  },
  {
   "cell_type": "markdown",
   "metadata": {},
   "source": [
    "Definiremos como outlier um valor que estiver acima de Q3 + 1.5 * IQR ou abaixo de Q1 - 1.5 * IQR.<br>\n",
    "Q1 e Q3 são os valores do primeiro e terceiro quartis.<br>\n",
    "IQR (Intervalo Interquartil) é a diferença Q3 - Q1. "
   ]
  },
  {
   "cell_type": "markdown",
   "metadata": {},
   "source": [
    "##### Outliers em na_sales"
   ]
  },
  {
   "cell_type": "code",
   "execution_count": 75,
   "metadata": {},
   "outputs": [
    {
     "data": {
      "text/html": [
       "<div>\n",
       "<style scoped>\n",
       "    .dataframe tbody tr th:only-of-type {\n",
       "        vertical-align: middle;\n",
       "    }\n",
       "\n",
       "    .dataframe tbody tr th {\n",
       "        vertical-align: top;\n",
       "    }\n",
       "\n",
       "    .dataframe thead th {\n",
       "        text-align: right;\n",
       "    }\n",
       "</style>\n",
       "<table border=\"1\" class=\"dataframe\">\n",
       "  <thead>\n",
       "    <tr style=\"text-align: right;\">\n",
       "      <th></th>\n",
       "      <th>count</th>\n",
       "    </tr>\n",
       "  </thead>\n",
       "  <tbody>\n",
       "    <tr>\n",
       "      <th>0</th>\n",
       "      <td>1711</td>\n",
       "    </tr>\n",
       "  </tbody>\n",
       "</table>\n",
       "</div>"
      ],
      "text/plain": [
       "   count\n",
       "0   1711"
      ]
     },
     "execution_count": 75,
     "metadata": {},
     "output_type": "execute_result"
    }
   ],
   "source": [
    "pd.read_sql_query(\n",
    "    \"\"\"\n",
    "    WITH stats AS (\n",
    "      SELECT\n",
    "        PERCENTILE_CONT(0.25) WITHIN GROUP (ORDER BY na_sales) AS q1,\n",
    "        PERCENTILE_CONT(0.75) WITHIN GROUP (ORDER BY na_sales) AS q3\n",
    "      FROM\n",
    "        videogame_sales\n",
    "    )\n",
    "    SELECT\n",
    "      COUNT(na_sales)\n",
    "    FROM\n",
    "      videogame_sales, stats\n",
    "    WHERE\n",
    "      na_sales < stats.q1 - 1.5 * (stats.q3 - stats.q1) OR\n",
    "      na_sales > stats.q3 + 1.5 * (stats.q3 - stats.q1);\n",
    "    \"\"\", \n",
    "    con=conn\n",
    ")"
   ]
  },
  {
   "cell_type": "markdown",
   "metadata": {},
   "source": [
    "Temos Q1 = 0 e Q3 = 0.24.<br>\n",
    "Assim, nosso IQR vale 0.36.<br>\n",
    "São outliers valores acima de 0.6 ou abaixo de -0.36.<br>\n",
    "Como não temos valores negativos para vendas, não há outliers \"para baixo\".<br>\n",
    "Há 1711 outliers \"para cima\".<br> \n",
    "Não há motivo para desconsiderá-los, uma vez que não representam erros de medida ou algo do tipo. São apenas jogos que tiveram vendas excepcionais quando comparados ao resto."
   ]
  },
  {
   "cell_type": "markdown",
   "metadata": {},
   "source": [
    "##### Outliers em eu_sales"
   ]
  },
  {
   "cell_type": "code",
   "execution_count": 82,
   "metadata": {},
   "outputs": [
    {
     "data": {
      "text/html": [
       "<div>\n",
       "<style scoped>\n",
       "    .dataframe tbody tr th:only-of-type {\n",
       "        vertical-align: middle;\n",
       "    }\n",
       "\n",
       "    .dataframe tbody tr th {\n",
       "        vertical-align: top;\n",
       "    }\n",
       "\n",
       "    .dataframe thead th {\n",
       "        text-align: right;\n",
       "    }\n",
       "</style>\n",
       "<table border=\"1\" class=\"dataframe\">\n",
       "  <thead>\n",
       "    <tr style=\"text-align: right;\">\n",
       "      <th></th>\n",
       "      <th>count</th>\n",
       "    </tr>\n",
       "  </thead>\n",
       "  <tbody>\n",
       "    <tr>\n",
       "      <th>0</th>\n",
       "      <td>2081</td>\n",
       "    </tr>\n",
       "  </tbody>\n",
       "</table>\n",
       "</div>"
      ],
      "text/plain": [
       "   count\n",
       "0   2081"
      ]
     },
     "execution_count": 82,
     "metadata": {},
     "output_type": "execute_result"
    }
   ],
   "source": [
    "pd.read_sql_query(\n",
    "    \"\"\"\n",
    "    WITH stats AS (\n",
    "      SELECT\n",
    "        PERCENTILE_CONT(0.25) WITHIN GROUP (ORDER BY eu_sales) AS q1,\n",
    "        PERCENTILE_CONT(0.75) WITHIN GROUP (ORDER BY eu_sales) AS q3\n",
    "      FROM\n",
    "        videogame_sales\n",
    "    )\n",
    "    SELECT\n",
    "      COUNT(eu_sales)\n",
    "    FROM\n",
    "      videogame_sales, stats\n",
    "    WHERE\n",
    "      eu_sales < stats.q1 - 1.5 * (stats.q3 - stats.q1) OR\n",
    "      eu_sales > stats.q3 + 1.5 * (stats.q3 - stats.q1)\n",
    "    \"\"\", \n",
    "    con=conn\n",
    ")"
   ]
  },
  {
   "cell_type": "markdown",
   "metadata": {},
   "source": [
    "Temos Q1 = 0 e Q3 = 0.11.<br>\n",
    "Assim, nosso IQR é 0.11.<br>\n",
    "São outliers valores abaixo de -0.165 ou acima de 0.275.<br>\n",
    "Da mesma forma que em na_sales, não temos outliers \"para baixo\".<br>\n",
    "Existem 2081 outliers \"para cima\".<br>\n",
    "O tratamento dado aos outliers será o mesmo de na_sales.<br>"
   ]
  },
  {
   "cell_type": "markdown",
   "metadata": {},
   "source": [
    "##### Outliers em jp_sales"
   ]
  },
  {
   "cell_type": "code",
   "execution_count": 90,
   "metadata": {},
   "outputs": [
    {
     "data": {
      "text/html": [
       "<div>\n",
       "<style scoped>\n",
       "    .dataframe tbody tr th:only-of-type {\n",
       "        vertical-align: middle;\n",
       "    }\n",
       "\n",
       "    .dataframe tbody tr th {\n",
       "        vertical-align: top;\n",
       "    }\n",
       "\n",
       "    .dataframe thead th {\n",
       "        text-align: right;\n",
       "    }\n",
       "</style>\n",
       "<table border=\"1\" class=\"dataframe\">\n",
       "  <thead>\n",
       "    <tr style=\"text-align: right;\">\n",
       "      <th></th>\n",
       "      <th>count</th>\n",
       "    </tr>\n",
       "  </thead>\n",
       "  <tbody>\n",
       "    <tr>\n",
       "      <th>0</th>\n",
       "      <td>2577</td>\n",
       "    </tr>\n",
       "  </tbody>\n",
       "</table>\n",
       "</div>"
      ],
      "text/plain": [
       "   count\n",
       "0   2577"
      ]
     },
     "execution_count": 90,
     "metadata": {},
     "output_type": "execute_result"
    }
   ],
   "source": [
    "pd.read_sql_query(\n",
    "    \"\"\"\n",
    "    WITH stats AS (\n",
    "      SELECT\n",
    "        PERCENTILE_CONT(0.25) WITHIN GROUP (ORDER BY jp_sales) AS q1,\n",
    "        PERCENTILE_CONT(0.75) WITHIN GROUP (ORDER BY jp_sales) AS q3\n",
    "      FROM\n",
    "        videogame_sales\n",
    "    )\n",
    "    SELECT\n",
    "      COUNT(jp_sales)\n",
    "    FROM\n",
    "      videogame_sales, stats\n",
    "    WHERE\n",
    "      jp_sales < stats.q1 - 1.5 * (stats.q3 - stats.q1) OR\n",
    "      jp_sales > stats.q3 + 1.5 * (stats.q3 - stats.q1)\n",
    "    \"\"\", \n",
    "    con=conn\n",
    ")"
   ]
  },
  {
   "cell_type": "markdown",
   "metadata": {},
   "source": [
    "Temos Q1 = 0 e Q3 = 0.04.<br>\n",
    "Assim, nosso IQR é 0.04.<br>\n",
    "Serão outliers valores abaixo de -0.02 ou acima de 0.1.<br>\n",
    "Não temos outliers \"para baixo\".<br>\n",
    "Existem 2577 outliers \"para cima\".<br>\n",
    "O tratamento dado aos outliers será o mesmo de antes.<br>"
   ]
  },
  {
   "cell_type": "markdown",
   "metadata": {},
   "source": [
    "##### Outliers em other_sales"
   ]
  },
  {
   "cell_type": "code",
   "execution_count": 94,
   "metadata": {},
   "outputs": [
    {
     "data": {
      "text/html": [
       "<div>\n",
       "<style scoped>\n",
       "    .dataframe tbody tr th:only-of-type {\n",
       "        vertical-align: middle;\n",
       "    }\n",
       "\n",
       "    .dataframe tbody tr th {\n",
       "        vertical-align: top;\n",
       "    }\n",
       "\n",
       "    .dataframe thead th {\n",
       "        text-align: right;\n",
       "    }\n",
       "</style>\n",
       "<table border=\"1\" class=\"dataframe\">\n",
       "  <thead>\n",
       "    <tr style=\"text-align: right;\">\n",
       "      <th></th>\n",
       "      <th>other_sales</th>\n",
       "    </tr>\n",
       "  </thead>\n",
       "  <tbody>\n",
       "    <tr>\n",
       "      <th>0</th>\n",
       "      <td>0.10</td>\n",
       "    </tr>\n",
       "    <tr>\n",
       "      <th>1</th>\n",
       "      <td>0.10</td>\n",
       "    </tr>\n",
       "    <tr>\n",
       "      <th>2</th>\n",
       "      <td>0.10</td>\n",
       "    </tr>\n",
       "    <tr>\n",
       "      <th>3</th>\n",
       "      <td>0.10</td>\n",
       "    </tr>\n",
       "    <tr>\n",
       "      <th>4</th>\n",
       "      <td>0.10</td>\n",
       "    </tr>\n",
       "    <tr>\n",
       "      <th>...</th>\n",
       "      <td>...</td>\n",
       "    </tr>\n",
       "    <tr>\n",
       "      <th>1827</th>\n",
       "      <td>3.31</td>\n",
       "    </tr>\n",
       "    <tr>\n",
       "      <th>1828</th>\n",
       "      <td>4.14</td>\n",
       "    </tr>\n",
       "    <tr>\n",
       "      <th>1829</th>\n",
       "      <td>7.53</td>\n",
       "    </tr>\n",
       "    <tr>\n",
       "      <th>1830</th>\n",
       "      <td>8.46</td>\n",
       "    </tr>\n",
       "    <tr>\n",
       "      <th>1831</th>\n",
       "      <td>10.57</td>\n",
       "    </tr>\n",
       "  </tbody>\n",
       "</table>\n",
       "<p>1832 rows × 1 columns</p>\n",
       "</div>"
      ],
      "text/plain": [
       "      other_sales\n",
       "0            0.10\n",
       "1            0.10\n",
       "2            0.10\n",
       "3            0.10\n",
       "4            0.10\n",
       "...           ...\n",
       "1827         3.31\n",
       "1828         4.14\n",
       "1829         7.53\n",
       "1830         8.46\n",
       "1831        10.57\n",
       "\n",
       "[1832 rows x 1 columns]"
      ]
     },
     "execution_count": 94,
     "metadata": {},
     "output_type": "execute_result"
    }
   ],
   "source": [
    "pd.read_sql_query(\n",
    "    \"\"\"\n",
    "    WITH stats AS (\n",
    "      SELECT\n",
    "        PERCENTILE_CONT(0.25) WITHIN GROUP (ORDER BY other_sales) AS q1,\n",
    "        PERCENTILE_CONT(0.75) WITHIN GROUP (ORDER BY other_sales) AS q3\n",
    "      FROM\n",
    "        videogame_sales\n",
    "    )\n",
    "    SELECT\n",
    "      COUNT(other_sales)\n",
    "    FROM\n",
    "      videogame_sales, stats\n",
    "    WHERE\n",
    "      other_sales < stats.q1 - 1.5 * (stats.q3 - stats.q1) OR\n",
    "      other_sales > stats.q3 + 1.5 * (stats.q3 - stats.q1)\n",
    "    \"\"\", \n",
    "    con=conn\n",
    ")"
   ]
  },
  {
   "cell_type": "markdown",
   "metadata": {},
   "source": [
    "Temos Q1 = 0 e Q3 = 0.04.<br>\n",
    "Assim, nosso IQR é 0.04.<br>\n",
    "Serão outliers valores abaixo de -0.02 ou acima de 0.1.<br>\n",
    "Não temos outliers \"para baixo\".<br>\n",
    "Existem 1832 outliers \"para cima\".<br>\n",
    "O tratamento dado aos outliers será o mesmo de antes.<br>"
   ]
  },
  {
   "cell_type": "markdown",
   "metadata": {},
   "source": [
    "##### Outliers em global_sales"
   ]
  },
  {
   "cell_type": "code",
   "execution_count": 96,
   "metadata": {},
   "outputs": [
    {
     "data": {
      "text/html": [
       "<div>\n",
       "<style scoped>\n",
       "    .dataframe tbody tr th:only-of-type {\n",
       "        vertical-align: middle;\n",
       "    }\n",
       "\n",
       "    .dataframe tbody tr th {\n",
       "        vertical-align: top;\n",
       "    }\n",
       "\n",
       "    .dataframe thead th {\n",
       "        text-align: right;\n",
       "    }\n",
       "</style>\n",
       "<table border=\"1\" class=\"dataframe\">\n",
       "  <thead>\n",
       "    <tr style=\"text-align: right;\">\n",
       "      <th></th>\n",
       "      <th>count</th>\n",
       "    </tr>\n",
       "  </thead>\n",
       "  <tbody>\n",
       "    <tr>\n",
       "      <th>0</th>\n",
       "      <td>1893</td>\n",
       "    </tr>\n",
       "  </tbody>\n",
       "</table>\n",
       "</div>"
      ],
      "text/plain": [
       "   count\n",
       "0   1893"
      ]
     },
     "execution_count": 96,
     "metadata": {},
     "output_type": "execute_result"
    }
   ],
   "source": [
    "pd.read_sql_query(\n",
    "    \"\"\"\n",
    "    WITH stats AS (\n",
    "      SELECT\n",
    "        PERCENTILE_CONT(0.25) WITHIN GROUP (ORDER BY global_sales) AS q1,\n",
    "        PERCENTILE_CONT(0.75) WITHIN GROUP (ORDER BY global_sales) AS q3\n",
    "      FROM\n",
    "        videogame_sales\n",
    "    )\n",
    "    SELECT\n",
    "      COUNT(global_sales)\n",
    "    FROM\n",
    "      videogame_sales, stats\n",
    "    WHERE\n",
    "      global_sales < stats.q1 - 1.5 * (stats.q3 - stats.q1) OR\n",
    "      global_sales > stats.q3 + 1.5 * (stats.q3 - stats.q1)\n",
    "    \"\"\", \n",
    "    con=conn\n",
    ")"
   ]
  },
  {
   "cell_type": "markdown",
   "metadata": {},
   "source": [
    "Temos Q1 = 0.06 e Q3 = 0.47.<br>\n",
    "Assim, nosso IQR é 0.39.<br>\n",
    "Serão outliers valores abaixo de -0.535 ou acima de 1.055.<br>\n",
    "Não temos outliers \"para baixo\".<br>\n",
    "Existem 1893 outliers \"para cima\".<br>\n",
    "O tratamento dado aos outliers será o mesmo de antes.<br>"
   ]
  },
  {
   "cell_type": "markdown",
   "metadata": {},
   "source": [
    "#### 10 Perguntas"
   ]
  },
  {
   "cell_type": "markdown",
   "metadata": {},
   "source": [
    "##### Questão 1 - Qual a soma de todos os jogos vendidos no Wii?"
   ]
  },
  {
   "cell_type": "code",
   "execution_count": null,
   "metadata": {},
   "outputs": [],
   "source": [
    "pd.read_sql_query(\n",
    "    \"\"\"\n",
    "        SELECT \n",
    "            SUM(global_sales)\n",
    "        FROM \n",
    "            videogame_sales\n",
    "        WHERE \n",
    "            platform = 'Wii'\n",
    "    \"\"\", \n",
    "    con=conn\n",
    ")"
   ]
  },
  {
   "cell_type": "markdown",
   "metadata": {},
   "source": [
    "Essa query filtra a plataforma com nome \"Wii\" e soma todos os seus global_sales."
   ]
  },
  {
   "cell_type": "markdown",
   "metadata": {},
   "source": [
    "##### Questão 2 - Quais foram 5 os jogos mais vendidos entre 2010 e 2016?"
   ]
  },
  {
   "cell_type": "code",
   "execution_count": null,
   "metadata": {},
   "outputs": [],
   "source": [
    "pd.read_sql_query(\n",
    "    \"\"\"\n",
    "        SELECT \n",
    "            game_name, \n",
    "            SUM(global_sales) AS global_sales_sum\n",
    "        FROM \n",
    "            videogame_sales\n",
    "        WHERE \n",
    "            release_year <= 2016 AND release_year >= 2010\n",
    "        GROUP BY \n",
    "            game_name\n",
    "        ORDER BY \n",
    "            global_sales_sum DESC\n",
    "        LIMIT \n",
    "            5\n",
    "    \"\"\", \n",
    "    con=conn\n",
    ")"
   ]
  },
  {
   "cell_type": "markdown",
   "metadata": {},
   "source": [
    "Essa query agrupa todos os jogos com mesmo nome, filtra os jogos entre 2010 e 2016 e soma seus global_sales. Ao final, ordena os jogos por venda e limita a quantidade de jogos mostrados em 5."
   ]
  },
  {
   "cell_type": "markdown",
   "metadata": {},
   "source": [
    "##### Questão 3 - Qual região foi responsável pela maior quantidade de vendas  de jogos?"
   ]
  },
  {
   "cell_type": "code",
   "execution_count": null,
   "metadata": {},
   "outputs": [],
   "source": [
    "pd.read_sql_query(\n",
    "    \"\"\"\n",
    "        SELECT \n",
    "            'na_sales' AS region_sales, \n",
    "            SUM(na_sales) AS valor\n",
    "        FROM \n",
    "            videogame_sales\n",
    "        UNION ALL\n",
    "        SELECT \n",
    "            'eu_sales' AS region_sales, \n",
    "            SUM(eu_sales) AS valor\n",
    "        FROM \n",
    "            videogame_sales\n",
    "        UNION ALL\n",
    "        SELECT \n",
    "            'jp_sales' AS region_sales, \n",
    "            SUM(jp_sales) AS valor\n",
    "        FROM \n",
    "            videogame_sales\n",
    "        UNION ALL\n",
    "        SELECT \n",
    "            'other_sales' AS region_sales, \n",
    "            SUM(other_sales) AS valor\n",
    "        FROM \n",
    "            videogame_sales\n",
    "        ORDER BY \n",
    "            valor DESC\n",
    "        LIMIT \n",
    "            1\n",
    "    \"\"\", \n",
    "    con=conn\n",
    ")"
   ]
  },
  {
   "cell_type": "markdown",
   "metadata": {},
   "source": [
    "Essa query soma as vendas de um região e cria uma string para nomeá-la, em seguida, faz o mesmo com as outras e as une em uma única tabela. Por fim, ordena os valores de venda em ordem decrescente e mostra apenas o primeiro dado."
   ]
  },
  {
   "cell_type": "markdown",
   "metadata": {},
   "source": [
    "#### Questão 4 - Quais as 3 plataformas com mais jogos vendidos?"
   ]
  },
  {
   "cell_type": "code",
   "execution_count": null,
   "metadata": {},
   "outputs": [],
   "source": [
    "pd.read_sql_query(\n",
    "    \"\"\"\n",
    "        SELECT \n",
    "            platform, \n",
    "            SUM(global_sales) AS sum_global_sales\n",
    "        FROM \n",
    "            videogame_sales\n",
    "        GROUP BY \n",
    "            platform\n",
    "        ORDER BY \n",
    "            sum_global_sales DESC\n",
    "        LIMIT \n",
    "            3\n",
    "    \"\"\", \n",
    "    con=conn\n",
    ")"
   ]
  },
  {
   "cell_type": "markdown",
   "metadata": {},
   "source": [
    "Essa query agrupa as plataformas de mesmo nome e soma os seus global_sales. Em seguida, ela ordena em ordem decrescente pelo sum_global_sales e limita a visualização em 3."
   ]
  },
  {
   "cell_type": "markdown",
   "metadata": {},
   "source": [
    "##### Questão 5 - Quais os 10 jogos mais vendidos no japão?"
   ]
  },
  {
   "cell_type": "code",
   "execution_count": null,
   "metadata": {},
   "outputs": [],
   "source": [
    "pd.read_sql_query(\n",
    "    \"\"\"\n",
    "        SELECT \n",
    "            game_name, \n",
    "            SUM(jp_sales) AS sum_jp_sales\n",
    "        FROM \n",
    "            videogame_sales\n",
    "        GROUP BY \n",
    "            game_name\n",
    "        ORDER BY \n",
    "            sum_jp_sales DESC\n",
    "        LIMIT \n",
    "            10\n",
    "    \"\"\", \n",
    "    con=conn\n",
    ")"
   ]
  },
  {
   "cell_type": "markdown",
   "metadata": {},
   "source": [
    "Essa query junta os jogos de mesmo nome e soma as suas jp_sales. Em seguida ordena em ordem decrescente pelo sum_jp_sales e limita sua visualização em 10."
   ]
  },
  {
   "cell_type": "markdown",
   "metadata": {},
   "source": [
    "##### Questão 6 - Quantos jogos foram lançados no ano de 2008?"
   ]
  },
  {
   "cell_type": "code",
   "execution_count": null,
   "metadata": {},
   "outputs": [],
   "source": [
    "pd.read_sql_query(\n",
    "    \"\"\"\n",
    "        SELECT \n",
    "            release_year, \n",
    "            COUNT(game_name) AS count_game_name\n",
    "        FROM \n",
    "            videogame_sales\n",
    "        WHERE \n",
    "            release_year = 2008\n",
    "        GROUP BY \n",
    "            release_year\n",
    "    \"\"\", \n",
    "    con=conn\n",
    ")"
   ]
  },
  {
   "cell_type": "markdown",
   "metadata": {},
   "source": [
    "Essa query filtra todos os jogos que foram lançados em 2008 e conta sua quantidade."
   ]
  },
  {
   "cell_type": "markdown",
   "metadata": {},
   "source": [
    "##### Questão 7 - Quais as 3 plataformas com mais jogos lançados?"
   ]
  },
  {
   "cell_type": "code",
   "execution_count": null,
   "metadata": {},
   "outputs": [],
   "source": [
    "pd.read_sql_query(\n",
    "    \"\"\"\n",
    "        SELECT \n",
    "            platform, \n",
    "            COUNT(game_name) AS count_game_name\n",
    "        FROM \n",
    "            videogame_sales\n",
    "        GROUP BY \n",
    "            platform\n",
    "        ORDER BY \n",
    "            count_game_name DESC\n",
    "        LIMIT \n",
    "            3\n",
    "    \"\"\", \n",
    "    con=conn\n",
    ")"
   ]
  },
  {
   "cell_type": "markdown",
   "metadata": {},
   "source": [
    "Essa query agrupa as plataformas de mesmo nome e conta a quantidade de jogos em cada uma. Em seguida ordena de forma decrescente pela quantidade de jogos e limita sua visualização em 3."
   ]
  },
  {
   "cell_type": "markdown",
   "metadata": {},
   "source": [
    "##### Questão 8 - A soma das vendas dos 3 jogos lançados em maior número de plataforma?"
   ]
  },
  {
   "cell_type": "code",
   "execution_count": null,
   "metadata": {},
   "outputs": [],
   "source": [
    "pd.read_sql_query(\n",
    "    \"\"\"\n",
    "        SELECT \n",
    "            game_name, \n",
    "            COUNT(platform) AS count_platform, \n",
    "            SUM(global_sales) AS sum_global_sales\n",
    "        FROM \n",
    "            videogame_sales\n",
    "        GROUP BY \n",
    "            game_name\n",
    "        ORDER BY \n",
    "            count_platform DESC\n",
    "        LIMIT \n",
    "            3\n",
    "    \"\"\", \n",
    "    con=conn\n",
    ")"
   ]
  },
  {
   "cell_type": "markdown",
   "metadata": {},
   "source": [
    "Essa query agrupa os jogos de mesmo nome, conta a quantidade de plataformas de cada jogo e soma seu global_sales. Em seguida, ordena em ordem decrescente pelo count_platform e limita sua visualização em 3."
   ]
  },
  {
   "cell_type": "markdown",
   "metadata": {},
   "source": [
    "##### Questão 9 - Quantos jogos de cada gênero cada desenvolvedora lançou?"
   ]
  },
  {
   "cell_type": "code",
   "execution_count": null,
   "metadata": {},
   "outputs": [],
   "source": [
    "pd.read_sql_query(\n",
    "    \"\"\"\n",
    "        SELECT \n",
    "            publisher,\n",
    "            genre,\n",
    "            COUNT(genre) AS count_genre\n",
    "        FROM\n",
    "            videogame_sales\n",
    "        GROUP BY \n",
    "            genre, \n",
    "            publisher\n",
    "        ORDER BY \n",
    "            publisher, \n",
    "            count_genre DESC\n",
    "    \"\"\", \n",
    "    con=conn\n",
    ")"
   ]
  },
  {
   "cell_type": "markdown",
   "metadata": {},
   "source": [
    "Essa query agrupa os gêneros e desenvolvedoras e mostra em ordem alfabética de desenvolvedores e decrescente de gênero a quantidade de jogos de um mesmo gênero lançado por uma desenvolvedora."
   ]
  }
 ],
 "metadata": {
  "kernelspec": {
   "display_name": "Python 3.8.10 64-bit",
   "language": "python",
   "name": "python3"
  },
  "language_info": {
   "codemirror_mode": {
    "name": "ipython",
    "version": 3
   },
   "file_extension": ".py",
   "mimetype": "text/x-python",
   "name": "python",
   "nbconvert_exporter": "python",
   "pygments_lexer": "ipython3",
   "version": "3.8.10"
  },
  "orig_nbformat": 4,
  "vscode": {
   "interpreter": {
    "hash": "916dbcbb3f70747c44a77c7bcd40155683ae19c65e1c03b4aa3499c5328201f1"
   }
  }
 },
 "nbformat": 4,
 "nbformat_minor": 2
}
