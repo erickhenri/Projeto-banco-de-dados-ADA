{
 "cells": [
  {
   "cell_type": "markdown",
   "metadata": {},
   "source": [
    "# Projeto Banco de Dados I\n",
    "### Professor Rogério Mainardes\n",
    "### Alunos Erick Henrique e Paulo Vitor "
   ]
  },
  {
   "cell_type": "markdown",
   "metadata": {},
   "source": [
    "### Definição do projeto"
   ]
  },
  {
   "cell_type": "markdown",
   "metadata": {},
   "source": [
    "Esse projeto consiste na análise descritiva de um dataset e de 10 perguntas cujas respostas serão dadas através de consultas usando a linguagem SQL.\n",
    "O dataset escolhido está disponível no [github](https://github.com/ValdisW/datasets/blob/master/video-game-sales.csv)."
   ]
  },
  {
   "cell_type": "markdown",
   "metadata": {},
   "source": [
    "### Descrição do dataset"
   ]
  },
  {
   "cell_type": "markdown",
   "metadata": {},
   "source": [
    "Os dados escolhidos mostram as vendas de jogos de videogame lançados entre 1980 e 2020 que tiveram mais de 100.000 vendas nas regiões América do Norte, União Europeia, Japão ou outros (resto do mundo). Na tabela, as colunas *_sales mostram as vendas em milhões de unidades."
   ]
  },
  {
   "cell_type": "markdown",
   "metadata": {},
   "source": [
    "### Criação da tabela que será consultada no postgres"
   ]
  },
  {
   "cell_type": "code",
   "execution_count": 1,
   "metadata": {
    "vscode": {
     "languageId": "sql"
    }
   },
   "outputs": [],
   "source": [
    "-- Criação da tabela videogame_sales no postgres\n",
    "CREATE TABLE videogame_sales(\n",
    "    ranking integer,\n",
    "    game_name varchar(200),\n",
    "    platform varchar(20),\n",
    "    release_year smallint,\n",
    "    genre varchar(20),\n",
    "    publisher varchar(50),\n",
    "    na_sales real,\n",
    "    eu_sales real,\n",
    "    jp_sales real,\n",
    "    other_sales real,\n",
    "    global_sales real\n",
    ");"
   ]
  },
  {
   "cell_type": "code",
   "execution_count": null,
   "metadata": {
    "vscode": {
     "languageId": "sql"
    }
   },
   "outputs": [],
   "source": [
    "-- cópia dos dados do arquivo videogame-sales para o postgres\n",
    "COPY videogame_sales \n",
    "FROM 'caminho/do/arquivo/arquivo.csv'\n",
    "WITH(\n",
    "    FORMAT csv,\n",
    "    DELIMITER ',', \n",
    "    HEADER,\n",
    "    NULL 'N/A'\n",
    ");"
   ]
  },
  {
   "cell_type": "markdown",
   "metadata": {},
   "source": [
    "### Conectando com o banco de dados"
   ]
  },
  {
   "cell_type": "code",
   "execution_count": null,
   "metadata": {},
   "outputs": [],
   "source": [
    "# Instalando libs necessárias\n",
    "!pip install sqlalchemy\n",
    "!pip install pandas\n",
    "!pip install pandasql"
   ]
  },
  {
   "cell_type": "code",
   "execution_count": 2,
   "metadata": {},
   "outputs": [],
   "source": [
    "# Importa as libs instaladas\n",
    "\n",
    "from sqlalchemy import create_engine\n",
    "import pandas as pd\n",
    "import pandasql as ps"
   ]
  },
  {
   "cell_type": "code",
   "execution_count": 3,
   "metadata": {},
   "outputs": [],
   "source": [
    "# Configura conexão com o banco\n",
    "\n",
    "SGBD = \"postgresql+psycopg2\"\n",
    "USER = \"postgres\"\n",
    "SENHA = \"123\"\n",
    "HOST = \"localhost\"\n",
    "DATABASE = \"Video game dataset\"\n",
    "\n",
    "engine = create_engine(f\"{SGBD}://{USER}:{SENHA}@{HOST}/{DATABASE}\")\n",
    "conn = engine.connect()"
   ]
  },
  {
   "cell_type": "code",
   "execution_count": 4,
   "metadata": {},
   "outputs": [
    {
     "data": {
      "text/html": [
       "<div>\n",
       "<style scoped>\n",
       "    .dataframe tbody tr th:only-of-type {\n",
       "        vertical-align: middle;\n",
       "    }\n",
       "\n",
       "    .dataframe tbody tr th {\n",
       "        vertical-align: top;\n",
       "    }\n",
       "\n",
       "    .dataframe thead th {\n",
       "        text-align: right;\n",
       "    }\n",
       "</style>\n",
       "<table border=\"1\" class=\"dataframe\">\n",
       "  <thead>\n",
       "    <tr style=\"text-align: right;\">\n",
       "      <th></th>\n",
       "      <th>ranking</th>\n",
       "      <th>game_name</th>\n",
       "      <th>platform</th>\n",
       "      <th>release_year</th>\n",
       "      <th>genre</th>\n",
       "      <th>publisher</th>\n",
       "      <th>na_sales</th>\n",
       "      <th>eu_sales</th>\n",
       "      <th>jp_sales</th>\n",
       "      <th>other_sales</th>\n",
       "      <th>global_sales</th>\n",
       "    </tr>\n",
       "  </thead>\n",
       "  <tbody>\n",
       "    <tr>\n",
       "      <th>0</th>\n",
       "      <td>1</td>\n",
       "      <td>Wii Sports</td>\n",
       "      <td>Wii</td>\n",
       "      <td>2006</td>\n",
       "      <td>Sports</td>\n",
       "      <td>Nintendo</td>\n",
       "      <td>41.49</td>\n",
       "      <td>29.02</td>\n",
       "      <td>3.77</td>\n",
       "      <td>8.46</td>\n",
       "      <td>82.74</td>\n",
       "    </tr>\n",
       "    <tr>\n",
       "      <th>1</th>\n",
       "      <td>2</td>\n",
       "      <td>Super Mario Bros.</td>\n",
       "      <td>NES</td>\n",
       "      <td>1985</td>\n",
       "      <td>Platform</td>\n",
       "      <td>Nintendo</td>\n",
       "      <td>29.08</td>\n",
       "      <td>3.58</td>\n",
       "      <td>6.81</td>\n",
       "      <td>0.77</td>\n",
       "      <td>40.24</td>\n",
       "    </tr>\n",
       "    <tr>\n",
       "      <th>2</th>\n",
       "      <td>3</td>\n",
       "      <td>Mario Kart Wii</td>\n",
       "      <td>Wii</td>\n",
       "      <td>2008</td>\n",
       "      <td>Racing</td>\n",
       "      <td>Nintendo</td>\n",
       "      <td>15.85</td>\n",
       "      <td>12.88</td>\n",
       "      <td>3.79</td>\n",
       "      <td>3.31</td>\n",
       "      <td>35.82</td>\n",
       "    </tr>\n",
       "    <tr>\n",
       "      <th>3</th>\n",
       "      <td>4</td>\n",
       "      <td>Wii Sports Resort</td>\n",
       "      <td>Wii</td>\n",
       "      <td>2009</td>\n",
       "      <td>Sports</td>\n",
       "      <td>Nintendo</td>\n",
       "      <td>15.75</td>\n",
       "      <td>11.01</td>\n",
       "      <td>3.28</td>\n",
       "      <td>2.96</td>\n",
       "      <td>33.00</td>\n",
       "    </tr>\n",
       "  </tbody>\n",
       "</table>\n",
       "</div>"
      ],
      "text/plain": [
       "   ranking          game_name platform  release_year     genre publisher   \n",
       "0        1         Wii Sports      Wii          2006    Sports  Nintendo  \\\n",
       "1        2  Super Mario Bros.      NES          1985  Platform  Nintendo   \n",
       "2        3     Mario Kart Wii      Wii          2008    Racing  Nintendo   \n",
       "3        4  Wii Sports Resort      Wii          2009    Sports  Nintendo   \n",
       "\n",
       "   na_sales  eu_sales  jp_sales  other_sales  global_sales  \n",
       "0     41.49     29.02      3.77         8.46         82.74  \n",
       "1     29.08      3.58      6.81         0.77         40.24  \n",
       "2     15.85     12.88      3.79         3.31         35.82  \n",
       "3     15.75     11.01      3.28         2.96         33.00  "
      ]
     },
     "execution_count": 4,
     "metadata": {},
     "output_type": "execute_result"
    }
   ],
   "source": [
    "# Consulta teste\n",
    "pd.read_sql_query(\n",
    "    \"\"\"\n",
    "        SELECT \n",
    "            * \n",
    "        FROM \n",
    "            videogame_sales\n",
    "        LIMIT 4\n",
    "    \"\"\", \n",
    "    con=conn\n",
    ")"
   ]
  },
  {
   "cell_type": "markdown",
   "metadata": {},
   "source": [
    "### Análise Descritiva"
   ]
  },
  {
   "cell_type": "markdown",
   "metadata": {},
   "source": [
    "#### Tipagem das colunas"
   ]
  },
  {
   "cell_type": "code",
   "execution_count": 62,
   "metadata": {},
   "outputs": [
    {
     "data": {
      "text/html": [
       "<div>\n",
       "<style scoped>\n",
       "    .dataframe tbody tr th:only-of-type {\n",
       "        vertical-align: middle;\n",
       "    }\n",
       "\n",
       "    .dataframe tbody tr th {\n",
       "        vertical-align: top;\n",
       "    }\n",
       "\n",
       "    .dataframe thead th {\n",
       "        text-align: right;\n",
       "    }\n",
       "</style>\n",
       "<table border=\"1\" class=\"dataframe\">\n",
       "  <thead>\n",
       "    <tr style=\"text-align: right;\">\n",
       "      <th></th>\n",
       "      <th>column_name</th>\n",
       "      <th>data_type</th>\n",
       "    </tr>\n",
       "  </thead>\n",
       "  <tbody>\n",
       "    <tr>\n",
       "      <th>0</th>\n",
       "      <td>ranking</td>\n",
       "      <td>integer</td>\n",
       "    </tr>\n",
       "    <tr>\n",
       "      <th>1</th>\n",
       "      <td>game_name</td>\n",
       "      <td>character varying</td>\n",
       "    </tr>\n",
       "    <tr>\n",
       "      <th>2</th>\n",
       "      <td>platform</td>\n",
       "      <td>character varying</td>\n",
       "    </tr>\n",
       "    <tr>\n",
       "      <th>3</th>\n",
       "      <td>release_year</td>\n",
       "      <td>smallint</td>\n",
       "    </tr>\n",
       "    <tr>\n",
       "      <th>4</th>\n",
       "      <td>genre</td>\n",
       "      <td>character varying</td>\n",
       "    </tr>\n",
       "    <tr>\n",
       "      <th>5</th>\n",
       "      <td>publisher</td>\n",
       "      <td>character varying</td>\n",
       "    </tr>\n",
       "    <tr>\n",
       "      <th>6</th>\n",
       "      <td>na_sales</td>\n",
       "      <td>real</td>\n",
       "    </tr>\n",
       "    <tr>\n",
       "      <th>7</th>\n",
       "      <td>eu_sales</td>\n",
       "      <td>real</td>\n",
       "    </tr>\n",
       "    <tr>\n",
       "      <th>8</th>\n",
       "      <td>jp_sales</td>\n",
       "      <td>real</td>\n",
       "    </tr>\n",
       "    <tr>\n",
       "      <th>9</th>\n",
       "      <td>other_sales</td>\n",
       "      <td>real</td>\n",
       "    </tr>\n",
       "    <tr>\n",
       "      <th>10</th>\n",
       "      <td>global_sales</td>\n",
       "      <td>real</td>\n",
       "    </tr>\n",
       "  </tbody>\n",
       "</table>\n",
       "</div>"
      ],
      "text/plain": [
       "     column_name          data_type\n",
       "0        ranking            integer\n",
       "1      game_name  character varying\n",
       "2       platform  character varying\n",
       "3   release_year           smallint\n",
       "4          genre  character varying\n",
       "5      publisher  character varying\n",
       "6       na_sales               real\n",
       "7       eu_sales               real\n",
       "8       jp_sales               real\n",
       "9    other_sales               real\n",
       "10  global_sales               real"
      ]
     },
     "execution_count": 62,
     "metadata": {},
     "output_type": "execute_result"
    }
   ],
   "source": [
    "pd.read_sql_query(\n",
    "    \"\"\"\n",
    "        SELECT \n",
    "            column_name, data_type\n",
    "        FROM \n",
    "            information_schema.columns\n",
    "        WHERE\n",
    "            table_schema = 'public' AND table_name = 'videogame_sales'\n",
    "    \"\"\", \n",
    "    con=conn\n",
    ")"
   ]
  },
  {
   "cell_type": "markdown",
   "metadata": {},
   "source": [
    "Information schema é um schema criado automaticamente pelo postgres e que contém informações de todas as colunas no banco de dados.<br>\n",
    "Filtramos esse schema para mostrar apenas dados da tabela que criamos (videogame_sales) e, especificamente, as colunas column_name e data_type.<br>\n",
    "Para verificar outras informações presentes nesse schema, altere o 'SELECT' para '*'.<br><br>\n",
    "Tipos de dados presentes:\n",
    "- integer e smallint: variáveis do tipo inteiro. integer é a escolha mais comum. Usamos smallint para representar os anos para usar um tipo diferente e por sabermos que não haveria números com mais de 4 dígitos nessa coluna\n",
    "- character varying: representa variáveis do tipo texto que tem tamanho variável, tendo apenas um limite superior. Definimos esse limite como 50.\n",
    "- real: tipo de dado numérico de ponto flutuante (o popular *float*). O real tem um range de 1E-37 a 1E+37 com uma precisão de pelomenos 6 casas decimais, sendo mais que o suficiente para os nossos propósitos."
   ]
  },
  {
   "cell_type": "markdown",
   "metadata": {},
   "source": [
    "#### Quantidade de valores nulos em cada coluna"
   ]
  },
  {
   "cell_type": "code",
   "execution_count": 71,
   "metadata": {},
   "outputs": [
    {
     "data": {
      "text/html": [
       "<div>\n",
       "<style scoped>\n",
       "    .dataframe tbody tr th:only-of-type {\n",
       "        vertical-align: middle;\n",
       "    }\n",
       "\n",
       "    .dataframe tbody tr th {\n",
       "        vertical-align: top;\n",
       "    }\n",
       "\n",
       "    .dataframe thead th {\n",
       "        text-align: right;\n",
       "    }\n",
       "</style>\n",
       "<table border=\"1\" class=\"dataframe\">\n",
       "  <thead>\n",
       "    <tr style=\"text-align: right;\">\n",
       "      <th></th>\n",
       "      <th>nulos_ranking</th>\n",
       "      <th>nulos_game_name</th>\n",
       "      <th>nulos_platform</th>\n",
       "      <th>nulos_release_year</th>\n",
       "      <th>nulos_genre</th>\n",
       "      <th>nulos_publisher</th>\n",
       "      <th>nulos_na_sales</th>\n",
       "      <th>nulos_eu_sales</th>\n",
       "      <th>nulos_jp_sales</th>\n",
       "      <th>nulos_other_sales</th>\n",
       "      <th>nulos_global_sales</th>\n",
       "    </tr>\n",
       "  </thead>\n",
       "  <tbody>\n",
       "    <tr>\n",
       "      <th>0</th>\n",
       "      <td>0</td>\n",
       "      <td>0</td>\n",
       "      <td>0</td>\n",
       "      <td>271</td>\n",
       "      <td>0</td>\n",
       "      <td>58</td>\n",
       "      <td>0</td>\n",
       "      <td>0</td>\n",
       "      <td>0</td>\n",
       "      <td>0</td>\n",
       "      <td>0</td>\n",
       "    </tr>\n",
       "  </tbody>\n",
       "</table>\n",
       "</div>"
      ],
      "text/plain": [
       "   nulos_ranking  nulos_game_name  nulos_platform  nulos_release_year   \n",
       "0              0                0               0                 271  \\\n",
       "\n",
       "   nulos_genre  nulos_publisher  nulos_na_sales  nulos_eu_sales   \n",
       "0            0               58               0               0  \\\n",
       "\n",
       "   nulos_jp_sales  nulos_other_sales  nulos_global_sales  \n",
       "0               0                  0                   0  "
      ]
     },
     "execution_count": 71,
     "metadata": {},
     "output_type": "execute_result"
    }
   ],
   "source": [
    "pd.read_sql_query(\n",
    "    \"\"\"\n",
    "        SELECT\n",
    "            COUNT(*) FILTER (WHERE ranking IS NULL) AS nulos_ranking,\n",
    "            COUNT(*) FILTER (WHERE game_name IS NULL) AS nulos_game_name,\n",
    "            COUNT(*) FILTER (WHERE platform IS NULL) AS nulos_platform,\n",
    "            COUNT(*) FILTER (WHERE release_year IS NULL) AS nulos_release_year,\n",
    "            COUNT(*) FILTER (WHERE genre IS NULL) AS nulos_genre,\n",
    "            COUNT(*) FILTER (WHERE publisher IS NULL) AS nulos_publisher,\n",
    "            COUNT(*) FILTER (WHERE na_sales IS NULL) AS nulos_na_sales,\n",
    "            COUNT(*) FILTER (WHERE eu_sales IS NULL) AS nulos_eu_sales,\n",
    "            COUNT(*) FILTER (WHERE jp_sales IS NULL) AS nulos_jp_sales,\n",
    "            COUNT(*) FILTER (WHERE other_sales IS NULL) AS nulos_other_sales,\n",
    "            COUNT(*) FILTER (WHERE global_sales IS NULL) AS nulos_global_sales\n",
    "        FROM\n",
    "            videogame_sales\n",
    "    \"\"\", \n",
    "    con=conn\n",
    ")"
   ]
  },
  {
   "cell_type": "markdown",
   "metadata": {},
   "source": [
    "A consulta acima conta todos os elementos presentes em uma coluna em que foi aplicado um filtro que mostra apenas os elementos de valor NULL, repetindo essa mesma contagem e aplicação de filtro para cada uma das colunas.\n",
    "Assim, temos a contagem de elementos nulos em cada uma das colunas."
   ]
  },
  {
   "cell_type": "markdown",
   "metadata": {},
   "source": [
    "#### Valores únicos nas colunas de variáveis categóricas"
   ]
  },
  {
   "cell_type": "markdown",
   "metadata": {},
   "source": [
    "Temos as seguintes colunas como representantes de variáveis categóricas:\n",
    "- Plataforma\n",
    "- Ano de lançamento\n",
    "- Gênero\n",
    "- Empresa desenvolvedora\n",
    "\n",
    "A consulta abaixo pode nos mostrar o número de categorias distintas (valores únicos) em cada uma das colunas"
   ]
  },
  {
   "cell_type": "code",
   "execution_count": 91,
   "metadata": {},
   "outputs": [
    {
     "data": {
      "text/html": [
       "<div>\n",
       "<style scoped>\n",
       "    .dataframe tbody tr th:only-of-type {\n",
       "        vertical-align: middle;\n",
       "    }\n",
       "\n",
       "    .dataframe tbody tr th {\n",
       "        vertical-align: top;\n",
       "    }\n",
       "\n",
       "    .dataframe thead th {\n",
       "        text-align: right;\n",
       "    }\n",
       "</style>\n",
       "<table border=\"1\" class=\"dataframe\">\n",
       "  <thead>\n",
       "    <tr style=\"text-align: right;\">\n",
       "      <th></th>\n",
       "      <th>unique_platform_count</th>\n",
       "      <th>unique_release_year_count</th>\n",
       "      <th>unique_genre_count</th>\n",
       "      <th>unique_publisher_count</th>\n",
       "    </tr>\n",
       "  </thead>\n",
       "  <tbody>\n",
       "    <tr>\n",
       "      <th>0</th>\n",
       "      <td>31</td>\n",
       "      <td>39</td>\n",
       "      <td>12</td>\n",
       "      <td>578</td>\n",
       "    </tr>\n",
       "  </tbody>\n",
       "</table>\n",
       "</div>"
      ],
      "text/plain": [
       "   unique_platform_count  unique_release_year_count  unique_genre_count   \n",
       "0                     31                         39                  12  \\\n",
       "\n",
       "   unique_publisher_count  \n",
       "0                     578  "
      ]
     },
     "execution_count": 91,
     "metadata": {},
     "output_type": "execute_result"
    }
   ],
   "source": [
    "pd.read_sql_query(\n",
    "    \"\"\"\n",
    "        SELECT \n",
    "            count(DISTINCT platform) AS unique_platform_count,\n",
    "            count(DISTINCT release_year) AS unique_release_year_count,\n",
    "            count(DISTINCT genre) AS unique_genre_count,\n",
    "            count(DISTINCT publisher) AS unique_publisher_count\n",
    "        FROM\n",
    "            videogame_sales\n",
    "    \"\"\", \n",
    "    con=conn\n",
    ")"
   ]
  },
  {
   "cell_type": "markdown",
   "metadata": {},
   "source": [
    "A consulta acima conta os valores distintos em cada uma das colunas e nos retorna essa contagem."
   ]
  },
  {
   "cell_type": "markdown",
   "metadata": {},
   "source": [
    "#### Outliers nas colunas numéricas"
   ]
  },
  {
   "cell_type": "markdown",
   "metadata": {},
   "source": [
    "Como reperesentantes de variáveis numéricas temos as seguintes colunas:\n",
    "- na_sales\n",
    "- eu_sales\n",
    "- jp_sales\n",
    "- other_sales\n",
    "- global_sales"
   ]
  },
  {
   "cell_type": "markdown",
   "metadata": {},
   "source": [
    "##### Função percentile_cont"
   ]
  },
  {
   "cell_type": "markdown",
   "metadata": {},
   "source": [
    "Os cálculos a seguir usam a função percentile_cont presente no postgres. Essa função calcula o valor correspondente ao percentil passado como argumento. Para isso, deve ser passado para o WITHIN GROUP o conjunto ordenado de valores que serão utilizados no cálculo ([documentação](https://www.postgresql.org/docs/15/functions-aggregate.html))"
   ]
  },
  {
   "cell_type": "markdown",
   "metadata": {},
   "source": [
    "##### Definição de outlier"
   ]
  },
  {
   "cell_type": "markdown",
   "metadata": {},
   "source": [
    "Definiremos como outlier um valor que estiver acima de Q3 + 1.5 * IQR ou abaixo de Q1 - 1.5 * IQR.<br>\n",
    "Q1 e Q3 são os valores do primeiro e terceiro quartis.<br>\n",
    "IQR (Intervalo Interquartil) é a diferença Q3 - Q1. "
   ]
  },
  {
   "cell_type": "markdown",
   "metadata": {},
   "source": [
    "##### Outliers em na_sales"
   ]
  },
  {
   "cell_type": "code",
   "execution_count": 75,
   "metadata": {},
   "outputs": [
    {
     "data": {
      "text/html": [
       "<div>\n",
       "<style scoped>\n",
       "    .dataframe tbody tr th:only-of-type {\n",
       "        vertical-align: middle;\n",
       "    }\n",
       "\n",
       "    .dataframe tbody tr th {\n",
       "        vertical-align: top;\n",
       "    }\n",
       "\n",
       "    .dataframe thead th {\n",
       "        text-align: right;\n",
       "    }\n",
       "</style>\n",
       "<table border=\"1\" class=\"dataframe\">\n",
       "  <thead>\n",
       "    <tr style=\"text-align: right;\">\n",
       "      <th></th>\n",
       "      <th>count</th>\n",
       "    </tr>\n",
       "  </thead>\n",
       "  <tbody>\n",
       "    <tr>\n",
       "      <th>0</th>\n",
       "      <td>1711</td>\n",
       "    </tr>\n",
       "  </tbody>\n",
       "</table>\n",
       "</div>"
      ],
      "text/plain": [
       "   count\n",
       "0   1711"
      ]
     },
     "execution_count": 75,
     "metadata": {},
     "output_type": "execute_result"
    }
   ],
   "source": [
    "pd.read_sql_query(\n",
    "    \"\"\"\n",
    "        WITH stats AS (\n",
    "            SELECT\n",
    "                PERCENTILE_CONT(0.25) WITHIN GROUP (ORDER BY na_sales) AS q1,\n",
    "                PERCENTILE_CONT(0.75) WITHIN GROUP (ORDER BY na_sales) AS q3\n",
    "            FROM\n",
    "                videogame_sales\n",
    "        )\n",
    "        SELECT\n",
    "            COUNT(na_sales)\n",
    "        FROM\n",
    "            videogame_sales, stats\n",
    "        WHERE\n",
    "            na_sales < stats.q1 - 1.5 * (stats.q3 - stats.q1) OR\n",
    "            na_sales > stats.q3 + 1.5 * (stats.q3 - stats.q1);\n",
    "    \"\"\", \n",
    "    con=conn\n",
    ")"
   ]
  },
  {
   "cell_type": "markdown",
   "metadata": {},
   "source": [
    "Temos Q1 = 0 e Q3 = 0.24.<br>\n",
    "Assim, nosso IQR vale 0.36.<br>\n",
    "São outliers valores acima de 0.6 ou abaixo de -0.36.<br>\n",
    "Como não temos valores negativos para vendas, não há outliers \"para baixo\".<br>\n",
    "Há 1711 outliers \"para cima\".<br> \n",
    "Não há motivo para desconsiderá-los, uma vez que não representam erros de medida ou algo do tipo. São apenas jogos que tiveram vendas excepcionais quando comparados ao resto."
   ]
  },
  {
   "cell_type": "markdown",
   "metadata": {},
   "source": [
    "##### Outliers em eu_sales"
   ]
  },
  {
   "cell_type": "code",
   "execution_count": 82,
   "metadata": {},
   "outputs": [
    {
     "data": {
      "text/html": [
       "<div>\n",
       "<style scoped>\n",
       "    .dataframe tbody tr th:only-of-type {\n",
       "        vertical-align: middle;\n",
       "    }\n",
       "\n",
       "    .dataframe tbody tr th {\n",
       "        vertical-align: top;\n",
       "    }\n",
       "\n",
       "    .dataframe thead th {\n",
       "        text-align: right;\n",
       "    }\n",
       "</style>\n",
       "<table border=\"1\" class=\"dataframe\">\n",
       "  <thead>\n",
       "    <tr style=\"text-align: right;\">\n",
       "      <th></th>\n",
       "      <th>count</th>\n",
       "    </tr>\n",
       "  </thead>\n",
       "  <tbody>\n",
       "    <tr>\n",
       "      <th>0</th>\n",
       "      <td>2081</td>\n",
       "    </tr>\n",
       "  </tbody>\n",
       "</table>\n",
       "</div>"
      ],
      "text/plain": [
       "   count\n",
       "0   2081"
      ]
     },
     "execution_count": 82,
     "metadata": {},
     "output_type": "execute_result"
    }
   ],
   "source": [
    "pd.read_sql_query(\n",
    "    \"\"\"\n",
    "        WITH stats AS (\n",
    "            SELECT\n",
    "                PERCENTILE_CONT(0.25) WITHIN GROUP (ORDER BY eu_sales) AS q1,\n",
    "                PERCENTILE_CONT(0.75) WITHIN GROUP (ORDER BY eu_sales) AS q3\n",
    "            FROM\n",
    "                videogame_sales\n",
    "        )\n",
    "        SELECT\n",
    "            COUNT(eu_sales)\n",
    "        FROM\n",
    "            videogame_sales, stats\n",
    "        WHERE\n",
    "            eu_sales < stats.q1 - 1.5 * (stats.q3 - stats.q1) OR\n",
    "            eu_sales > stats.q3 + 1.5 * (stats.q3 - stats.q1)\n",
    "    \"\"\", \n",
    "    con=conn\n",
    ")"
   ]
  },
  {
   "cell_type": "markdown",
   "metadata": {},
   "source": [
    "Temos Q1 = 0 e Q3 = 0.11.<br>\n",
    "Assim, nosso IQR é 0.11.<br>\n",
    "São outliers valores abaixo de -0.165 ou acima de 0.275.<br>\n",
    "Da mesma forma que em na_sales, não temos outliers \"para baixo\".<br>\n",
    "Existem 2081 outliers \"para cima\".<br>\n",
    "O tratamento dado aos outliers será o mesmo de na_sales.<br>"
   ]
  },
  {
   "cell_type": "markdown",
   "metadata": {},
   "source": [
    "##### Outliers em jp_sales"
   ]
  },
  {
   "cell_type": "code",
   "execution_count": 90,
   "metadata": {},
   "outputs": [
    {
     "data": {
      "text/html": [
       "<div>\n",
       "<style scoped>\n",
       "    .dataframe tbody tr th:only-of-type {\n",
       "        vertical-align: middle;\n",
       "    }\n",
       "\n",
       "    .dataframe tbody tr th {\n",
       "        vertical-align: top;\n",
       "    }\n",
       "\n",
       "    .dataframe thead th {\n",
       "        text-align: right;\n",
       "    }\n",
       "</style>\n",
       "<table border=\"1\" class=\"dataframe\">\n",
       "  <thead>\n",
       "    <tr style=\"text-align: right;\">\n",
       "      <th></th>\n",
       "      <th>count</th>\n",
       "    </tr>\n",
       "  </thead>\n",
       "  <tbody>\n",
       "    <tr>\n",
       "      <th>0</th>\n",
       "      <td>2577</td>\n",
       "    </tr>\n",
       "  </tbody>\n",
       "</table>\n",
       "</div>"
      ],
      "text/plain": [
       "   count\n",
       "0   2577"
      ]
     },
     "execution_count": 90,
     "metadata": {},
     "output_type": "execute_result"
    }
   ],
   "source": [
    "pd.read_sql_query(\n",
    "    \"\"\"\n",
    "        WITH stats AS (\n",
    "            SELECT\n",
    "                PERCENTILE_CONT(0.25) WITHIN GROUP (ORDER BY jp_sales) AS q1,\n",
    "                PERCENTILE_CONT(0.75) WITHIN GROUP (ORDER BY jp_sales) AS q3\n",
    "            FROM\n",
    "                videogame_sales\n",
    "        )\n",
    "        SELECT\n",
    "            COUNT(jp_sales)\n",
    "        FROM\n",
    "            videogame_sales, stats\n",
    "        WHERE\n",
    "            jp_sales < stats.q1 - 1.5 * (stats.q3 - stats.q1) OR\n",
    "            jp_sales > stats.q3 + 1.5 * (stats.q3 - stats.q1)\n",
    "    \"\"\", \n",
    "    con=conn\n",
    ")"
   ]
  },
  {
   "cell_type": "markdown",
   "metadata": {},
   "source": [
    "Temos Q1 = 0 e Q3 = 0.04.<br>\n",
    "Assim, nosso IQR é 0.04.<br>\n",
    "Serão outliers valores abaixo de -0.02 ou acima de 0.1.<br>\n",
    "Não temos outliers \"para baixo\".<br>\n",
    "Existem 2577 outliers \"para cima\".<br>\n",
    "O tratamento dado aos outliers será o mesmo de antes.<br>"
   ]
  },
  {
   "cell_type": "markdown",
   "metadata": {},
   "source": [
    "##### Outliers em other_sales"
   ]
  },
  {
   "cell_type": "code",
   "execution_count": 11,
   "metadata": {},
   "outputs": [
    {
     "data": {
      "text/html": [
       "<div>\n",
       "<style scoped>\n",
       "    .dataframe tbody tr th:only-of-type {\n",
       "        vertical-align: middle;\n",
       "    }\n",
       "\n",
       "    .dataframe tbody tr th {\n",
       "        vertical-align: top;\n",
       "    }\n",
       "\n",
       "    .dataframe thead th {\n",
       "        text-align: right;\n",
       "    }\n",
       "</style>\n",
       "<table border=\"1\" class=\"dataframe\">\n",
       "  <thead>\n",
       "    <tr style=\"text-align: right;\">\n",
       "      <th></th>\n",
       "      <th>count</th>\n",
       "    </tr>\n",
       "  </thead>\n",
       "  <tbody>\n",
       "    <tr>\n",
       "      <th>0</th>\n",
       "      <td>1832</td>\n",
       "    </tr>\n",
       "  </tbody>\n",
       "</table>\n",
       "</div>"
      ],
      "text/plain": [
       "   count\n",
       "0   1832"
      ]
     },
     "execution_count": 11,
     "metadata": {},
     "output_type": "execute_result"
    }
   ],
   "source": [
    "pd.read_sql_query(\n",
    "    \"\"\"\n",
    "        WITH stats AS (\n",
    "            SELECT\n",
    "                PERCENTILE_CONT(0.25) WITHIN GROUP (ORDER BY other_sales) AS q1,\n",
    "                PERCENTILE_CONT(0.75) WITHIN GROUP (ORDER BY other_sales) AS q3\n",
    "            FROM\n",
    "                videogame_sales\n",
    "        )\n",
    "        SELECT\n",
    "            COUNT(other_sales)\n",
    "        FROM\n",
    "            videogame_sales, stats\n",
    "        WHERE\n",
    "            other_sales < stats.q1 - 1.5 * (stats.q3 - stats.q1) OR\n",
    "            other_sales > stats.q3 + 1.5 * (stats.q3 - stats.q1)\n",
    "    \"\"\", \n",
    "    con=conn\n",
    ")"
   ]
  },
  {
   "cell_type": "markdown",
   "metadata": {},
   "source": [
    "Temos Q1 = 0 e Q3 = 0.04.<br>\n",
    "Assim, nosso IQR é 0.04.<br>\n",
    "Serão outliers valores abaixo de -0.02 ou acima de 0.1.<br>\n",
    "Não temos outliers \"para baixo\".<br>\n",
    "Existem 1832 outliers \"para cima\".<br>\n",
    "O tratamento dado aos outliers será o mesmo de antes.<br>"
   ]
  },
  {
   "cell_type": "markdown",
   "metadata": {},
   "source": [
    "##### Outliers em global_sales"
   ]
  },
  {
   "cell_type": "code",
   "execution_count": 96,
   "metadata": {},
   "outputs": [
    {
     "data": {
      "text/html": [
       "<div>\n",
       "<style scoped>\n",
       "    .dataframe tbody tr th:only-of-type {\n",
       "        vertical-align: middle;\n",
       "    }\n",
       "\n",
       "    .dataframe tbody tr th {\n",
       "        vertical-align: top;\n",
       "    }\n",
       "\n",
       "    .dataframe thead th {\n",
       "        text-align: right;\n",
       "    }\n",
       "</style>\n",
       "<table border=\"1\" class=\"dataframe\">\n",
       "  <thead>\n",
       "    <tr style=\"text-align: right;\">\n",
       "      <th></th>\n",
       "      <th>count</th>\n",
       "    </tr>\n",
       "  </thead>\n",
       "  <tbody>\n",
       "    <tr>\n",
       "      <th>0</th>\n",
       "      <td>1893</td>\n",
       "    </tr>\n",
       "  </tbody>\n",
       "</table>\n",
       "</div>"
      ],
      "text/plain": [
       "   count\n",
       "0   1893"
      ]
     },
     "execution_count": 96,
     "metadata": {},
     "output_type": "execute_result"
    }
   ],
   "source": [
    "pd.read_sql_query(\n",
    "    \"\"\"\n",
    "        WITH stats AS (\n",
    "            SELECT\n",
    "                PERCENTILE_CONT(0.25) WITHIN GROUP (ORDER BY global_sales) AS q1,\n",
    "                PERCENTILE_CONT(0.75) WITHIN GROUP (ORDER BY global_sales) AS q3\n",
    "            FROM\n",
    "                videogame_sales\n",
    "        )\n",
    "        SELECT\n",
    "            COUNT(global_sales)\n",
    "        FROM\n",
    "            videogame_sales, stats\n",
    "        WHERE\n",
    "            global_sales < stats.q1 - 1.5 * (stats.q3 - stats.q1) OR\n",
    "            global_sales > stats.q3 + 1.5 * (stats.q3 - stats.q1)\n",
    "    \"\"\", \n",
    "    con=conn\n",
    ")"
   ]
  },
  {
   "cell_type": "markdown",
   "metadata": {},
   "source": [
    "Temos Q1 = 0.06 e Q3 = 0.47.<br>\n",
    "Assim, nosso IQR é 0.39.<br>\n",
    "Serão outliers valores abaixo de -0.535 ou acima de 1.055.<br>\n",
    "Não temos outliers \"para baixo\".<br>\n",
    "Existem 1893 outliers \"para cima\".<br>\n",
    "O tratamento dado aos outliers será o mesmo de antes.<br>"
   ]
  },
  {
   "cell_type": "markdown",
   "metadata": {},
   "source": [
    "### Perguntas"
   ]
  },
  {
   "cell_type": "markdown",
   "metadata": {},
   "source": [
    "#### Pergunta 1 - Qual a soma de todos os jogos vendidos no Wii?"
   ]
  },
  {
   "cell_type": "code",
   "execution_count": 12,
   "metadata": {},
   "outputs": [
    {
     "data": {
      "text/html": [
       "<div>\n",
       "<style scoped>\n",
       "    .dataframe tbody tr th:only-of-type {\n",
       "        vertical-align: middle;\n",
       "    }\n",
       "\n",
       "    .dataframe tbody tr th {\n",
       "        vertical-align: top;\n",
       "    }\n",
       "\n",
       "    .dataframe thead th {\n",
       "        text-align: right;\n",
       "    }\n",
       "</style>\n",
       "<table border=\"1\" class=\"dataframe\">\n",
       "  <thead>\n",
       "    <tr style=\"text-align: right;\">\n",
       "      <th></th>\n",
       "      <th>sum</th>\n",
       "    </tr>\n",
       "  </thead>\n",
       "  <tbody>\n",
       "    <tr>\n",
       "      <th>0</th>\n",
       "      <td>926.7112</td>\n",
       "    </tr>\n",
       "  </tbody>\n",
       "</table>\n",
       "</div>"
      ],
      "text/plain": [
       "        sum\n",
       "0  926.7112"
      ]
     },
     "execution_count": 12,
     "metadata": {},
     "output_type": "execute_result"
    }
   ],
   "source": [
    "pd.read_sql_query(\n",
    "    \"\"\"\n",
    "        SELECT \n",
    "            SUM(global_sales)\n",
    "        FROM \n",
    "            videogame_sales\n",
    "        WHERE \n",
    "            platform = 'Wii'\n",
    "    \"\"\", \n",
    "    con=conn\n",
    ")"
   ]
  },
  {
   "cell_type": "markdown",
   "metadata": {},
   "source": [
    "Essa query filtra a plataforma com nome \"Wii\" e soma todos os seus global_sales."
   ]
  },
  {
   "cell_type": "markdown",
   "metadata": {},
   "source": [
    "#### Pergunta 2 - Quais foram os 5 jogos lançados entre 2010 e 2016 que mais venderam?"
   ]
  },
  {
   "cell_type": "code",
   "execution_count": 17,
   "metadata": {},
   "outputs": [
    {
     "data": {
      "text/html": [
       "<div>\n",
       "<style scoped>\n",
       "    .dataframe tbody tr th:only-of-type {\n",
       "        vertical-align: middle;\n",
       "    }\n",
       "\n",
       "    .dataframe tbody tr th {\n",
       "        vertical-align: top;\n",
       "    }\n",
       "\n",
       "    .dataframe thead th {\n",
       "        text-align: right;\n",
       "    }\n",
       "</style>\n",
       "<table border=\"1\" class=\"dataframe\">\n",
       "  <thead>\n",
       "    <tr style=\"text-align: right;\">\n",
       "      <th></th>\n",
       "      <th>game_name</th>\n",
       "      <th>global_sales_sum</th>\n",
       "      <th>release_year</th>\n",
       "    </tr>\n",
       "  </thead>\n",
       "  <tbody>\n",
       "    <tr>\n",
       "      <th>0</th>\n",
       "      <td>Grand Theft Auto V</td>\n",
       "      <td>37.780000</td>\n",
       "      <td>2013</td>\n",
       "    </tr>\n",
       "    <tr>\n",
       "      <th>1</th>\n",
       "      <td>Call of Duty: Modern Warfare 3</td>\n",
       "      <td>30.830000</td>\n",
       "      <td>2011</td>\n",
       "    </tr>\n",
       "    <tr>\n",
       "      <th>2</th>\n",
       "      <td>Call of Duty: Black Ops II</td>\n",
       "      <td>29.720000</td>\n",
       "      <td>2012</td>\n",
       "    </tr>\n",
       "    <tr>\n",
       "      <th>3</th>\n",
       "      <td>Call of Duty: Black Ops</td>\n",
       "      <td>29.399998</td>\n",
       "      <td>2010</td>\n",
       "    </tr>\n",
       "    <tr>\n",
       "      <th>4</th>\n",
       "      <td>Call of Duty: Ghosts</td>\n",
       "      <td>27.380001</td>\n",
       "      <td>2013</td>\n",
       "    </tr>\n",
       "  </tbody>\n",
       "</table>\n",
       "</div>"
      ],
      "text/plain": [
       "                        game_name  global_sales_sum  release_year\n",
       "0              Grand Theft Auto V         37.780000          2013\n",
       "1  Call of Duty: Modern Warfare 3         30.830000          2011\n",
       "2      Call of Duty: Black Ops II         29.720000          2012\n",
       "3         Call of Duty: Black Ops         29.399998          2010\n",
       "4            Call of Duty: Ghosts         27.380001          2013"
      ]
     },
     "execution_count": 17,
     "metadata": {},
     "output_type": "execute_result"
    }
   ],
   "source": [
    "pd.read_sql_query(\n",
    "    \"\"\"\n",
    "        SELECT \n",
    "            game_name, \n",
    "            SUM(global_sales) AS global_sales_sum,\n",
    "            release_year\n",
    "        FROM \n",
    "            videogame_sales\n",
    "        WHERE \n",
    "            release_year <= 2016 AND release_year >= 2010\n",
    "        GROUP BY \n",
    "            game_name, release_year\n",
    "        ORDER BY \n",
    "            global_sales_sum DESC\n",
    "        LIMIT \n",
    "            5\n",
    "    \"\"\", \n",
    "    con=conn\n",
    ")"
   ]
  },
  {
   "cell_type": "markdown",
   "metadata": {},
   "source": [
    "Essa query agrupa todos os jogos com mesmo nome e seus anos de lançamento, filtra os jogos entre 2010 e 2016 e soma seus global_sales. Ao final, ordena os jogos por venda e limita a quantidade de jogos mostrados em 5."
   ]
  },
  {
   "cell_type": "markdown",
   "metadata": {},
   "source": [
    "#### Pergunta 3 - Qual região foi responsável pela maior quantidade de vendas  de jogos?"
   ]
  },
  {
   "cell_type": "code",
   "execution_count": 20,
   "metadata": {},
   "outputs": [
    {
     "data": {
      "text/html": [
       "<div>\n",
       "<style scoped>\n",
       "    .dataframe tbody tr th:only-of-type {\n",
       "        vertical-align: middle;\n",
       "    }\n",
       "\n",
       "    .dataframe tbody tr th {\n",
       "        vertical-align: top;\n",
       "    }\n",
       "\n",
       "    .dataframe thead th {\n",
       "        text-align: right;\n",
       "    }\n",
       "</style>\n",
       "<table border=\"1\" class=\"dataframe\">\n",
       "  <thead>\n",
       "    <tr style=\"text-align: right;\">\n",
       "      <th></th>\n",
       "      <th>region_sales</th>\n",
       "      <th>valor</th>\n",
       "    </tr>\n",
       "  </thead>\n",
       "  <tbody>\n",
       "    <tr>\n",
       "      <th>0</th>\n",
       "      <td>na_sales</td>\n",
       "      <td>4392.5713</td>\n",
       "    </tr>\n",
       "  </tbody>\n",
       "</table>\n",
       "</div>"
      ],
      "text/plain": [
       "  region_sales      valor\n",
       "0     na_sales  4392.5713"
      ]
     },
     "execution_count": 20,
     "metadata": {},
     "output_type": "execute_result"
    }
   ],
   "source": [
    "pd.read_sql_query(\n",
    "    \"\"\"\n",
    "        SELECT \n",
    "            'na_sales' AS region_sales, \n",
    "            SUM(na_sales) AS valor\n",
    "        FROM \n",
    "            videogame_sales\n",
    "        UNION ALL\n",
    "        SELECT \n",
    "            'eu_sales' AS region_sales, \n",
    "            SUM(eu_sales) AS valor\n",
    "        FROM \n",
    "            videogame_sales\n",
    "        UNION ALL\n",
    "        SELECT \n",
    "            'jp_sales' AS region_sales, \n",
    "            SUM(jp_sales) AS valor\n",
    "        FROM \n",
    "            videogame_sales\n",
    "        UNION ALL\n",
    "        SELECT \n",
    "            'other_sales' AS region_sales, \n",
    "            SUM(other_sales) AS valor\n",
    "        FROM \n",
    "            videogame_sales\n",
    "        ORDER BY \n",
    "            valor DESC\n",
    "        LIMIT \n",
    "            1\n",
    "    \"\"\", \n",
    "    con=conn\n",
    ")"
   ]
  },
  {
   "cell_type": "markdown",
   "metadata": {},
   "source": [
    "Essa query soma as vendas de um região e cria uma string para nomeá-la, em seguida, faz o mesmo com as outras e as une em uma única tabela. Por fim, ordena os valores de venda em ordem decrescente e mostra apenas o primeiro dado."
   ]
  },
  {
   "cell_type": "markdown",
   "metadata": {},
   "source": [
    "#### Pergunta 4 - Quais as 3 plataformas com mais jogos vendidos?"
   ]
  },
  {
   "cell_type": "code",
   "execution_count": 21,
   "metadata": {},
   "outputs": [
    {
     "data": {
      "text/html": [
       "<div>\n",
       "<style scoped>\n",
       "    .dataframe tbody tr th:only-of-type {\n",
       "        vertical-align: middle;\n",
       "    }\n",
       "\n",
       "    .dataframe tbody tr th {\n",
       "        vertical-align: top;\n",
       "    }\n",
       "\n",
       "    .dataframe thead th {\n",
       "        text-align: right;\n",
       "    }\n",
       "</style>\n",
       "<table border=\"1\" class=\"dataframe\">\n",
       "  <thead>\n",
       "    <tr style=\"text-align: right;\">\n",
       "      <th></th>\n",
       "      <th>platform</th>\n",
       "      <th>sum_global_sales</th>\n",
       "    </tr>\n",
       "  </thead>\n",
       "  <tbody>\n",
       "    <tr>\n",
       "      <th>0</th>\n",
       "      <td>PS2</td>\n",
       "      <td>1255.6489</td>\n",
       "    </tr>\n",
       "    <tr>\n",
       "      <th>1</th>\n",
       "      <td>X360</td>\n",
       "      <td>979.9612</td>\n",
       "    </tr>\n",
       "    <tr>\n",
       "      <th>2</th>\n",
       "      <td>PS3</td>\n",
       "      <td>957.8420</td>\n",
       "    </tr>\n",
       "  </tbody>\n",
       "</table>\n",
       "</div>"
      ],
      "text/plain": [
       "  platform  sum_global_sales\n",
       "0      PS2         1255.6489\n",
       "1     X360          979.9612\n",
       "2      PS3          957.8420"
      ]
     },
     "execution_count": 21,
     "metadata": {},
     "output_type": "execute_result"
    }
   ],
   "source": [
    "pd.read_sql_query(\n",
    "    \"\"\"\n",
    "        SELECT \n",
    "            platform, \n",
    "            SUM(global_sales) AS sum_global_sales\n",
    "        FROM \n",
    "            videogame_sales\n",
    "        GROUP BY \n",
    "            platform\n",
    "        ORDER BY \n",
    "            sum_global_sales DESC\n",
    "        LIMIT \n",
    "            3\n",
    "    \"\"\", \n",
    "    con=conn\n",
    ")"
   ]
  },
  {
   "cell_type": "markdown",
   "metadata": {},
   "source": [
    "Essa query agrupa as plataformas de mesmo nome e soma os seus global_sales. Em seguida, ela ordena em ordem decrescente pelo sum_global_sales e limita a visualização em 3."
   ]
  },
  {
   "cell_type": "markdown",
   "metadata": {},
   "source": [
    "#### Pergunta 5 - Quais os 10 jogos mais vendidos no japão?"
   ]
  },
  {
   "cell_type": "code",
   "execution_count": 22,
   "metadata": {},
   "outputs": [
    {
     "data": {
      "text/html": [
       "<div>\n",
       "<style scoped>\n",
       "    .dataframe tbody tr th:only-of-type {\n",
       "        vertical-align: middle;\n",
       "    }\n",
       "\n",
       "    .dataframe tbody tr th {\n",
       "        vertical-align: top;\n",
       "    }\n",
       "\n",
       "    .dataframe thead th {\n",
       "        text-align: right;\n",
       "    }\n",
       "</style>\n",
       "<table border=\"1\" class=\"dataframe\">\n",
       "  <thead>\n",
       "    <tr style=\"text-align: right;\">\n",
       "      <th></th>\n",
       "      <th>game_name</th>\n",
       "      <th>sum_jp_sales</th>\n",
       "    </tr>\n",
       "  </thead>\n",
       "  <tbody>\n",
       "    <tr>\n",
       "      <th>0</th>\n",
       "      <td>Pokemon Red/Pokemon Blue</td>\n",
       "      <td>10.22</td>\n",
       "    </tr>\n",
       "    <tr>\n",
       "      <th>1</th>\n",
       "      <td>Pokemon Gold/Pokemon Silver</td>\n",
       "      <td>7.20</td>\n",
       "    </tr>\n",
       "    <tr>\n",
       "      <th>2</th>\n",
       "      <td>Super Mario Bros.</td>\n",
       "      <td>6.96</td>\n",
       "    </tr>\n",
       "    <tr>\n",
       "      <th>3</th>\n",
       "      <td>New Super Mario Bros.</td>\n",
       "      <td>6.50</td>\n",
       "    </tr>\n",
       "    <tr>\n",
       "      <th>4</th>\n",
       "      <td>Pokemon Diamond/Pokemon Pearl</td>\n",
       "      <td>6.04</td>\n",
       "    </tr>\n",
       "    <tr>\n",
       "      <th>5</th>\n",
       "      <td>Tetris</td>\n",
       "      <td>6.03</td>\n",
       "    </tr>\n",
       "    <tr>\n",
       "      <th>6</th>\n",
       "      <td>Pokemon Black/Pokemon White</td>\n",
       "      <td>5.65</td>\n",
       "    </tr>\n",
       "    <tr>\n",
       "      <th>7</th>\n",
       "      <td>Dragon Quest VII: Warriors of Eden</td>\n",
       "      <td>5.40</td>\n",
       "    </tr>\n",
       "    <tr>\n",
       "      <th>8</th>\n",
       "      <td>Pokemon Ruby/Pokemon Sapphire</td>\n",
       "      <td>5.38</td>\n",
       "    </tr>\n",
       "    <tr>\n",
       "      <th>9</th>\n",
       "      <td>Animal Crossing: Wild World</td>\n",
       "      <td>5.33</td>\n",
       "    </tr>\n",
       "  </tbody>\n",
       "</table>\n",
       "</div>"
      ],
      "text/plain": [
       "                            game_name  sum_jp_sales\n",
       "0            Pokemon Red/Pokemon Blue         10.22\n",
       "1         Pokemon Gold/Pokemon Silver          7.20\n",
       "2                   Super Mario Bros.          6.96\n",
       "3               New Super Mario Bros.          6.50\n",
       "4       Pokemon Diamond/Pokemon Pearl          6.04\n",
       "5                              Tetris          6.03\n",
       "6         Pokemon Black/Pokemon White          5.65\n",
       "7  Dragon Quest VII: Warriors of Eden          5.40\n",
       "8       Pokemon Ruby/Pokemon Sapphire          5.38\n",
       "9         Animal Crossing: Wild World          5.33"
      ]
     },
     "execution_count": 22,
     "metadata": {},
     "output_type": "execute_result"
    }
   ],
   "source": [
    "pd.read_sql_query(\n",
    "    \"\"\"\n",
    "        SELECT \n",
    "            game_name, \n",
    "            SUM(jp_sales) AS sum_jp_sales\n",
    "        FROM \n",
    "            videogame_sales\n",
    "        GROUP BY \n",
    "            game_name\n",
    "        ORDER BY \n",
    "            sum_jp_sales DESC\n",
    "        LIMIT \n",
    "            10\n",
    "    \"\"\", \n",
    "    con=conn\n",
    ")"
   ]
  },
  {
   "cell_type": "markdown",
   "metadata": {},
   "source": [
    "Essa query junta os jogos de mesmo nome e soma as suas jp_sales. Em seguida ordena em ordem decrescente pelo sum_jp_sales e limita sua visualização em 10."
   ]
  },
  {
   "cell_type": "markdown",
   "metadata": {},
   "source": [
    "#### Pergunta 6 - Quantos jogos foram lançados no ano de 2008?"
   ]
  },
  {
   "cell_type": "code",
   "execution_count": 45,
   "metadata": {},
   "outputs": [
    {
     "data": {
      "text/html": [
       "<div>\n",
       "<style scoped>\n",
       "    .dataframe tbody tr th:only-of-type {\n",
       "        vertical-align: middle;\n",
       "    }\n",
       "\n",
       "    .dataframe tbody tr th {\n",
       "        vertical-align: top;\n",
       "    }\n",
       "\n",
       "    .dataframe thead th {\n",
       "        text-align: right;\n",
       "    }\n",
       "</style>\n",
       "<table border=\"1\" class=\"dataframe\">\n",
       "  <thead>\n",
       "    <tr style=\"text-align: right;\">\n",
       "      <th></th>\n",
       "      <th>games_released_in_2008</th>\n",
       "    </tr>\n",
       "  </thead>\n",
       "  <tbody>\n",
       "    <tr>\n",
       "      <th>0</th>\n",
       "      <td>1039</td>\n",
       "    </tr>\n",
       "  </tbody>\n",
       "</table>\n",
       "</div>"
      ],
      "text/plain": [
       "   games_released_in_2008\n",
       "0                    1039"
      ]
     },
     "execution_count": 45,
     "metadata": {},
     "output_type": "execute_result"
    }
   ],
   "source": [
    "pd.read_sql_query(\n",
    "    \"\"\"\n",
    "        SELECT \n",
    "            COUNT(DISTINCT game_name) AS games_released_in_2008\n",
    "        FROM \n",
    "            videogame_sales\n",
    "        WHERE \n",
    "            release_year = 2008\n",
    "    \"\"\", \n",
    "    con=conn\n",
    ")"
   ]
  },
  {
   "cell_type": "markdown",
   "metadata": {},
   "source": [
    "Essa query filtra todos os jogos que foram lançados em 2008 e conta sua quantidade."
   ]
  },
  {
   "cell_type": "markdown",
   "metadata": {},
   "source": [
    "#### Pergunta 7 - Quais as 3 plataformas com mais jogos lançados?"
   ]
  },
  {
   "cell_type": "code",
   "execution_count": 46,
   "metadata": {},
   "outputs": [
    {
     "data": {
      "text/html": [
       "<div>\n",
       "<style scoped>\n",
       "    .dataframe tbody tr th:only-of-type {\n",
       "        vertical-align: middle;\n",
       "    }\n",
       "\n",
       "    .dataframe tbody tr th {\n",
       "        vertical-align: top;\n",
       "    }\n",
       "\n",
       "    .dataframe thead th {\n",
       "        text-align: right;\n",
       "    }\n",
       "</style>\n",
       "<table border=\"1\" class=\"dataframe\">\n",
       "  <thead>\n",
       "    <tr style=\"text-align: right;\">\n",
       "      <th></th>\n",
       "      <th>platform</th>\n",
       "      <th>count_game_name</th>\n",
       "    </tr>\n",
       "  </thead>\n",
       "  <tbody>\n",
       "    <tr>\n",
       "      <th>0</th>\n",
       "      <td>DS</td>\n",
       "      <td>2163</td>\n",
       "    </tr>\n",
       "    <tr>\n",
       "      <th>1</th>\n",
       "      <td>PS2</td>\n",
       "      <td>2161</td>\n",
       "    </tr>\n",
       "    <tr>\n",
       "      <th>2</th>\n",
       "      <td>PS3</td>\n",
       "      <td>1329</td>\n",
       "    </tr>\n",
       "  </tbody>\n",
       "</table>\n",
       "</div>"
      ],
      "text/plain": [
       "  platform  count_game_name\n",
       "0       DS             2163\n",
       "1      PS2             2161\n",
       "2      PS3             1329"
      ]
     },
     "execution_count": 46,
     "metadata": {},
     "output_type": "execute_result"
    }
   ],
   "source": [
    "pd.read_sql_query(\n",
    "    \"\"\"\n",
    "        SELECT \n",
    "            platform, \n",
    "            COUNT(game_name) AS count_game_name\n",
    "        FROM \n",
    "            videogame_sales\n",
    "        GROUP BY \n",
    "            platform\n",
    "        ORDER BY \n",
    "            count_game_name DESC\n",
    "        LIMIT \n",
    "            3\n",
    "    \"\"\", \n",
    "    con=conn\n",
    ")"
   ]
  },
  {
   "cell_type": "markdown",
   "metadata": {},
   "source": [
    "Essa query agrupa as plataformas de mesmo nome e conta a quantidade de jogos em cada uma. Em seguida ordena de forma decrescente pela quantidade de jogos e limita sua visualização em 3."
   ]
  },
  {
   "cell_type": "markdown",
   "metadata": {},
   "source": [
    "#### Pergunta 8 - A soma das vendas dos 3 jogos lançados em maior número de plataformas?"
   ]
  },
  {
   "cell_type": "code",
   "execution_count": 4,
   "metadata": {},
   "outputs": [
    {
     "data": {
      "text/html": [
       "<div>\n",
       "<style scoped>\n",
       "    .dataframe tbody tr th:only-of-type {\n",
       "        vertical-align: middle;\n",
       "    }\n",
       "\n",
       "    .dataframe tbody tr th {\n",
       "        vertical-align: top;\n",
       "    }\n",
       "\n",
       "    .dataframe thead th {\n",
       "        text-align: right;\n",
       "    }\n",
       "</style>\n",
       "<table border=\"1\" class=\"dataframe\">\n",
       "  <thead>\n",
       "    <tr style=\"text-align: right;\">\n",
       "      <th></th>\n",
       "      <th>game_name</th>\n",
       "      <th>count_platform</th>\n",
       "      <th>sum_global_sales</th>\n",
       "    </tr>\n",
       "  </thead>\n",
       "  <tbody>\n",
       "    <tr>\n",
       "      <th>0</th>\n",
       "      <td>Need for Speed: Most Wanted</td>\n",
       "      <td>12</td>\n",
       "      <td>14.080001</td>\n",
       "    </tr>\n",
       "    <tr>\n",
       "      <th>1</th>\n",
       "      <td>Madden NFL 07</td>\n",
       "      <td>9</td>\n",
       "      <td>10.030001</td>\n",
       "    </tr>\n",
       "    <tr>\n",
       "      <th>2</th>\n",
       "      <td>FIFA 14</td>\n",
       "      <td>9</td>\n",
       "      <td>17.140001</td>\n",
       "    </tr>\n",
       "  </tbody>\n",
       "</table>\n",
       "</div>"
      ],
      "text/plain": [
       "                     game_name  count_platform  sum_global_sales\n",
       "0  Need for Speed: Most Wanted              12         14.080001\n",
       "1                Madden NFL 07               9         10.030001\n",
       "2                      FIFA 14               9         17.140001"
      ]
     },
     "execution_count": 4,
     "metadata": {},
     "output_type": "execute_result"
    }
   ],
   "source": [
    "pd.read_sql_query(\n",
    "    \"\"\"\n",
    "        SELECT \n",
    "            game_name, \n",
    "            COUNT(platform) AS count_platform, \n",
    "            SUM(global_sales) AS sum_global_sales\n",
    "        FROM \n",
    "            videogame_sales\n",
    "        GROUP BY \n",
    "            game_name\n",
    "        ORDER BY \n",
    "            count_platform DESC\n",
    "        LIMIT \n",
    "            3\n",
    "    \"\"\", \n",
    "    con=conn\n",
    ")"
   ]
  },
  {
   "cell_type": "markdown",
   "metadata": {},
   "source": [
    "Essa query agrupa os jogos de mesmo nome, conta a quantidade de plataformas de cada jogo e soma seu global_sales. Em seguida, ordena em ordem decrescente pelo count_platform e limita sua visualização em 3."
   ]
  },
  {
   "cell_type": "markdown",
   "metadata": {},
   "source": [
    "#### Pergunta 9 - Quantos jogos de cada gênero cada desenvolvedora lançou?"
   ]
  },
  {
   "cell_type": "markdown",
   "metadata": {},
   "source": [
    "Para rodar a query que responde essa consulta vamos habilitar uma extensão no postgres chamada tablefunc.<br>\n",
    "Para habilitar essa extensão, rode a célula abaixo (só precisa habilitar uma vez, por isso deixamos em uma célula separada.)<br>\n",
    "Essa extensão possui uma função chamada [CROSSTAB](https://www.postgresql.org/docs/current/tablefunc.html#TABLEFUNC-FUNCTIONS) que nos permite pivotar uma tabela.<br>"
   ]
  },
  {
   "cell_type": "code",
   "execution_count": null,
   "metadata": {},
   "outputs": [],
   "source": [
    "pd.read_sql_query(\n",
    "    \"\"\"\n",
    "        CREATE EXTENSION tablefunc;\n",
    "    \"\"\", \n",
    "    con=conn\n",
    ")"
   ]
  },
  {
   "cell_type": "code",
   "execution_count": 10,
   "metadata": {},
   "outputs": [
    {
     "data": {
      "text/html": [
       "<div>\n",
       "<style scoped>\n",
       "    .dataframe tbody tr th:only-of-type {\n",
       "        vertical-align: middle;\n",
       "    }\n",
       "\n",
       "    .dataframe tbody tr th {\n",
       "        vertical-align: top;\n",
       "    }\n",
       "\n",
       "    .dataframe thead th {\n",
       "        text-align: right;\n",
       "    }\n",
       "</style>\n",
       "<table border=\"1\" class=\"dataframe\">\n",
       "  <thead>\n",
       "    <tr style=\"text-align: right;\">\n",
       "      <th></th>\n",
       "      <th>publisher</th>\n",
       "      <th>adventure</th>\n",
       "      <th>puzzle</th>\n",
       "      <th>strategy</th>\n",
       "      <th>rpg</th>\n",
       "      <th>simulation</th>\n",
       "      <th>misc</th>\n",
       "      <th>fighting</th>\n",
       "      <th>racing</th>\n",
       "      <th>sports</th>\n",
       "      <th>action</th>\n",
       "      <th>shooter</th>\n",
       "      <th>platform</th>\n",
       "    </tr>\n",
       "  </thead>\n",
       "  <tbody>\n",
       "    <tr>\n",
       "      <th>0</th>\n",
       "      <td>10TACLE Studios</td>\n",
       "      <td>1.0</td>\n",
       "      <td>1.0</td>\n",
       "      <td>1.0</td>\n",
       "      <td>NaN</td>\n",
       "      <td>NaN</td>\n",
       "      <td>NaN</td>\n",
       "      <td>NaN</td>\n",
       "      <td>NaN</td>\n",
       "      <td>NaN</td>\n",
       "      <td>NaN</td>\n",
       "      <td>NaN</td>\n",
       "      <td>NaN</td>\n",
       "    </tr>\n",
       "    <tr>\n",
       "      <th>1</th>\n",
       "      <td>1C Company</td>\n",
       "      <td>NaN</td>\n",
       "      <td>NaN</td>\n",
       "      <td>1.0</td>\n",
       "      <td>1.0</td>\n",
       "      <td>NaN</td>\n",
       "      <td>NaN</td>\n",
       "      <td>NaN</td>\n",
       "      <td>1.0</td>\n",
       "      <td>NaN</td>\n",
       "      <td>NaN</td>\n",
       "      <td>NaN</td>\n",
       "      <td>NaN</td>\n",
       "    </tr>\n",
       "    <tr>\n",
       "      <th>2</th>\n",
       "      <td>20th Century Fox Video Games</td>\n",
       "      <td>NaN</td>\n",
       "      <td>NaN</td>\n",
       "      <td>NaN</td>\n",
       "      <td>NaN</td>\n",
       "      <td>NaN</td>\n",
       "      <td>NaN</td>\n",
       "      <td>NaN</td>\n",
       "      <td>NaN</td>\n",
       "      <td>NaN</td>\n",
       "      <td>4.0</td>\n",
       "      <td>1.0</td>\n",
       "      <td>NaN</td>\n",
       "    </tr>\n",
       "    <tr>\n",
       "      <th>3</th>\n",
       "      <td>2D Boy</td>\n",
       "      <td>NaN</td>\n",
       "      <td>1.0</td>\n",
       "      <td>NaN</td>\n",
       "      <td>NaN</td>\n",
       "      <td>NaN</td>\n",
       "      <td>NaN</td>\n",
       "      <td>NaN</td>\n",
       "      <td>NaN</td>\n",
       "      <td>NaN</td>\n",
       "      <td>NaN</td>\n",
       "      <td>NaN</td>\n",
       "      <td>NaN</td>\n",
       "    </tr>\n",
       "    <tr>\n",
       "      <th>4</th>\n",
       "      <td>3DO</td>\n",
       "      <td>3.0</td>\n",
       "      <td>1.0</td>\n",
       "      <td>1.0</td>\n",
       "      <td>1.0</td>\n",
       "      <td>NaN</td>\n",
       "      <td>NaN</td>\n",
       "      <td>1.0</td>\n",
       "      <td>NaN</td>\n",
       "      <td>6.0</td>\n",
       "      <td>17.0</td>\n",
       "      <td>5.0</td>\n",
       "      <td>1.0</td>\n",
       "    </tr>\n",
       "    <tr>\n",
       "      <th>...</th>\n",
       "      <td>...</td>\n",
       "      <td>...</td>\n",
       "      <td>...</td>\n",
       "      <td>...</td>\n",
       "      <td>...</td>\n",
       "      <td>...</td>\n",
       "      <td>...</td>\n",
       "      <td>...</td>\n",
       "      <td>...</td>\n",
       "      <td>...</td>\n",
       "      <td>...</td>\n",
       "      <td>...</td>\n",
       "      <td>...</td>\n",
       "    </tr>\n",
       "    <tr>\n",
       "      <th>574</th>\n",
       "      <td>Zenrin</td>\n",
       "      <td>NaN</td>\n",
       "      <td>NaN</td>\n",
       "      <td>NaN</td>\n",
       "      <td>NaN</td>\n",
       "      <td>NaN</td>\n",
       "      <td>2.0</td>\n",
       "      <td>NaN</td>\n",
       "      <td>NaN</td>\n",
       "      <td>NaN</td>\n",
       "      <td>NaN</td>\n",
       "      <td>NaN</td>\n",
       "      <td>NaN</td>\n",
       "    </tr>\n",
       "    <tr>\n",
       "      <th>575</th>\n",
       "      <td>Zoo Digital Publishing</td>\n",
       "      <td>7.0</td>\n",
       "      <td>14.0</td>\n",
       "      <td>1.0</td>\n",
       "      <td>NaN</td>\n",
       "      <td>1.0</td>\n",
       "      <td>18.0</td>\n",
       "      <td>3.0</td>\n",
       "      <td>26.0</td>\n",
       "      <td>16.0</td>\n",
       "      <td>8.0</td>\n",
       "      <td>8.0</td>\n",
       "      <td>2.0</td>\n",
       "    </tr>\n",
       "    <tr>\n",
       "      <th>576</th>\n",
       "      <td>Zoo Games</td>\n",
       "      <td>1.0</td>\n",
       "      <td>3.0</td>\n",
       "      <td>NaN</td>\n",
       "      <td>NaN</td>\n",
       "      <td>1.0</td>\n",
       "      <td>11.0</td>\n",
       "      <td>NaN</td>\n",
       "      <td>6.0</td>\n",
       "      <td>4.0</td>\n",
       "      <td>3.0</td>\n",
       "      <td>4.0</td>\n",
       "      <td>NaN</td>\n",
       "    </tr>\n",
       "    <tr>\n",
       "      <th>577</th>\n",
       "      <td>Zushi Games</td>\n",
       "      <td>1.0</td>\n",
       "      <td>2.0</td>\n",
       "      <td>2.0</td>\n",
       "      <td>1.0</td>\n",
       "      <td>2.0</td>\n",
       "      <td>1.0</td>\n",
       "      <td>NaN</td>\n",
       "      <td>3.0</td>\n",
       "      <td>3.0</td>\n",
       "      <td>1.0</td>\n",
       "      <td>2.0</td>\n",
       "      <td>NaN</td>\n",
       "    </tr>\n",
       "    <tr>\n",
       "      <th>578</th>\n",
       "      <td>None</td>\n",
       "      <td>4.0</td>\n",
       "      <td>1.0</td>\n",
       "      <td>3.0</td>\n",
       "      <td>2.0</td>\n",
       "      <td>4.0</td>\n",
       "      <td>27.0</td>\n",
       "      <td>2.0</td>\n",
       "      <td>1.0</td>\n",
       "      <td>3.0</td>\n",
       "      <td>7.0</td>\n",
       "      <td>2.0</td>\n",
       "      <td>2.0</td>\n",
       "    </tr>\n",
       "  </tbody>\n",
       "</table>\n",
       "<p>579 rows × 13 columns</p>\n",
       "</div>"
      ],
      "text/plain": [
       "                        publisher  adventure  puzzle  strategy  rpg   \n",
       "0                 10TACLE Studios        1.0     1.0       1.0  NaN  \\\n",
       "1                      1C Company        NaN     NaN       1.0  1.0   \n",
       "2    20th Century Fox Video Games        NaN     NaN       NaN  NaN   \n",
       "3                          2D Boy        NaN     1.0       NaN  NaN   \n",
       "4                             3DO        3.0     1.0       1.0  1.0   \n",
       "..                            ...        ...     ...       ...  ...   \n",
       "574                        Zenrin        NaN     NaN       NaN  NaN   \n",
       "575        Zoo Digital Publishing        7.0    14.0       1.0  NaN   \n",
       "576                     Zoo Games        1.0     3.0       NaN  NaN   \n",
       "577                   Zushi Games        1.0     2.0       2.0  1.0   \n",
       "578                          None        4.0     1.0       3.0  2.0   \n",
       "\n",
       "     simulation  misc  fighting  racing  sports  action  shooter  platform  \n",
       "0           NaN   NaN       NaN     NaN     NaN     NaN      NaN       NaN  \n",
       "1           NaN   NaN       NaN     1.0     NaN     NaN      NaN       NaN  \n",
       "2           NaN   NaN       NaN     NaN     NaN     4.0      1.0       NaN  \n",
       "3           NaN   NaN       NaN     NaN     NaN     NaN      NaN       NaN  \n",
       "4           NaN   NaN       1.0     NaN     6.0    17.0      5.0       1.0  \n",
       "..          ...   ...       ...     ...     ...     ...      ...       ...  \n",
       "574         NaN   2.0       NaN     NaN     NaN     NaN      NaN       NaN  \n",
       "575         1.0  18.0       3.0    26.0    16.0     8.0      8.0       2.0  \n",
       "576         1.0  11.0       NaN     6.0     4.0     3.0      4.0       NaN  \n",
       "577         2.0   1.0       NaN     3.0     3.0     1.0      2.0       NaN  \n",
       "578         4.0  27.0       2.0     1.0     3.0     7.0      2.0       2.0  \n",
       "\n",
       "[579 rows x 13 columns]"
      ]
     },
     "execution_count": 10,
     "metadata": {},
     "output_type": "execute_result"
    }
   ],
   "source": [
    "pd.read_sql_query(\n",
    "    \"\"\"\n",
    "        SELECT * FROM CROSSTAB(\n",
    "            'SELECT \n",
    "                publisher,\n",
    "                genre,\n",
    "                COUNT(genre) AS count_genre\n",
    "            FROM\n",
    "                videogame_sales\n",
    "            GROUP BY \n",
    "                genre, \n",
    "                publisher\n",
    "            ORDER BY \n",
    "                publisher, \n",
    "                count_genre DESC',\n",
    "            'SELECT DISTINCT\n",
    "                genre\n",
    "            FROM\n",
    "                videogame_sales'\n",
    "        ) AS genre_by_publisher (\n",
    "            publisher varchar(50),\n",
    "            adventure int,\n",
    "            puzzle int,\n",
    "            strategy int,\n",
    "            rpg int,\n",
    "            simulation int,\n",
    "            misc int,\n",
    "            fighting int,\n",
    "            racing int,\n",
    "            sports int,\n",
    "            action int,\n",
    "            shooter int,\n",
    "            platform int\n",
    "        )\n",
    "    \"\"\", \n",
    "    con=conn\n",
    ")"
   ]
  },
  {
   "cell_type": "markdown",
   "metadata": {},
   "source": [
    "Essa query funciona da seguinte maneira:\n",
    "- Faz duas queries base\n",
    "    - Query para definir a tabela base contendo publishers, gêneros de jogo e quantos jogos daquele gênero cada publisher desenvolveu\n",
    "    - Query para definir uma tabela cujas linhas serão as colunas da nossa tabela final contendo todos os nomes de gênero presentes na tabela\n",
    "- Essas duas queries são passadas como argumentos para a função crosstab, que se encarregará de fazer o pivoteamento\n",
    "- Em seguida, precisamos definir os nomes e tipos das colunas da tabela final\n",
    "    - Segundo a [documentação](https://www.postgresql.org/docs/current/tablefunc.html#TABLEFUNC-FUNCTIONS), se os dados retornados fossem todos do tipo texto, poderíamos evitar essa definição usando a função crosstabN. No entanto, não conseguimos fazẽ-la funcionar. Mesmo fazendo o cast da contagem para text, o retorno do erro nos mostra que as funções crosstab2/3/4 (segundo a documentação, são as que existem) não foram encontradas.\n"
   ]
  },
  {
   "cell_type": "markdown",
   "metadata": {},
   "source": [
    "#### Pergunta 10 - Quais os nomes, anos de lançamento, gêneros e desenvolvedoras de cada jogo que mais vendeu em cada uma das regiões?  "
   ]
  },
  {
   "cell_type": "code",
   "execution_count": 6,
   "metadata": {},
   "outputs": [
    {
     "data": {
      "text/html": [
       "<div>\n",
       "<style scoped>\n",
       "    .dataframe tbody tr th:only-of-type {\n",
       "        vertical-align: middle;\n",
       "    }\n",
       "\n",
       "    .dataframe tbody tr th {\n",
       "        vertical-align: top;\n",
       "    }\n",
       "\n",
       "    .dataframe thead th {\n",
       "        text-align: right;\n",
       "    }\n",
       "</style>\n",
       "<table border=\"1\" class=\"dataframe\">\n",
       "  <thead>\n",
       "    <tr style=\"text-align: right;\">\n",
       "      <th></th>\n",
       "      <th>best_in</th>\n",
       "      <th>game_name</th>\n",
       "      <th>release_year</th>\n",
       "      <th>genre</th>\n",
       "      <th>publisher</th>\n",
       "    </tr>\n",
       "  </thead>\n",
       "  <tbody>\n",
       "    <tr>\n",
       "      <th>0</th>\n",
       "      <td>North America</td>\n",
       "      <td>Wii Sports</td>\n",
       "      <td>2006</td>\n",
       "      <td>Sports</td>\n",
       "      <td>Nintendo</td>\n",
       "    </tr>\n",
       "    <tr>\n",
       "      <th>1</th>\n",
       "      <td>Europe</td>\n",
       "      <td>Wii Sports</td>\n",
       "      <td>2006</td>\n",
       "      <td>Sports</td>\n",
       "      <td>Nintendo</td>\n",
       "    </tr>\n",
       "    <tr>\n",
       "      <th>2</th>\n",
       "      <td>Japan</td>\n",
       "      <td>Pokemon Red/Pokemon Blue</td>\n",
       "      <td>1996</td>\n",
       "      <td>Role-Playing</td>\n",
       "      <td>Nintendo</td>\n",
       "    </tr>\n",
       "    <tr>\n",
       "      <th>3</th>\n",
       "      <td>Other Regions</td>\n",
       "      <td>Grand Theft Auto: San Andreas</td>\n",
       "      <td>2004</td>\n",
       "      <td>Action</td>\n",
       "      <td>Take-Two Interactive</td>\n",
       "    </tr>\n",
       "    <tr>\n",
       "      <th>4</th>\n",
       "      <td>Global</td>\n",
       "      <td>Wii Sports</td>\n",
       "      <td>2006</td>\n",
       "      <td>Sports</td>\n",
       "      <td>Nintendo</td>\n",
       "    </tr>\n",
       "  </tbody>\n",
       "</table>\n",
       "</div>"
      ],
      "text/plain": [
       "         best_in                      game_name  release_year         genre   \n",
       "0  North America                     Wii Sports          2006        Sports  \\\n",
       "1         Europe                     Wii Sports          2006        Sports   \n",
       "2          Japan       Pokemon Red/Pokemon Blue          1996  Role-Playing   \n",
       "3  Other Regions  Grand Theft Auto: San Andreas          2004        Action   \n",
       "4         Global                     Wii Sports          2006        Sports   \n",
       "\n",
       "              publisher  \n",
       "0              Nintendo  \n",
       "1              Nintendo  \n",
       "2              Nintendo  \n",
       "3  Take-Two Interactive  \n",
       "4              Nintendo  "
      ]
     },
     "execution_count": 6,
     "metadata": {},
     "output_type": "execute_result"
    }
   ],
   "source": [
    "pd.read_sql_query(\n",
    "    \"\"\"\n",
    "        WITH RankedGames AS (\n",
    "            SELECT\n",
    "                game_name,\n",
    "                genre,\n",
    "                publisher,\n",
    "                release_year,\n",
    "                ROW_NUMBER() OVER (ORDER BY na_sales DESC) AS na_rank,\n",
    "                ROW_NUMBER() OVER (ORDER BY eu_sales DESC) AS eu_rank,\n",
    "                ROW_NUMBER() OVER (ORDER BY jp_sales DESC) AS jp_rank,\n",
    "                ROW_NUMBER() OVER (ORDER BY other_sales DESC) AS other_rank,\n",
    "                ROW_NUMBER() OVER (ORDER BY global_sales DESC) AS global_rank\n",
    "            FROM\n",
    "                videogame_sales\n",
    "        )\n",
    "        SELECT\n",
    "            'North America' AS best_in,\n",
    "            game_name,\n",
    "            release_year,\n",
    "            genre,\n",
    "            publisher\n",
    "        FROM\n",
    "            RankedGames\n",
    "        WHERE\n",
    "            na_rank = 1\n",
    "        UNION ALL\n",
    "        SELECT\n",
    "            'Europe' AS best_in,\n",
    "            game_name,\n",
    "            release_year,\n",
    "            genre,\n",
    "            publisher\n",
    "        FROM\n",
    "            RankedGames\n",
    "        WHERE\n",
    "            eu_rank = 1\n",
    "        UNION ALL\n",
    "        SELECT\n",
    "            'Japan' AS best_in,\n",
    "            game_name,\n",
    "            release_year,\n",
    "            genre,\n",
    "            publisher\n",
    "        FROM\n",
    "            RankedGames\n",
    "        WHERE\n",
    "            jp_rank = 1\n",
    "        UNION ALL\n",
    "        SELECT\n",
    "            'Other Regions' AS best_in,\n",
    "            game_name,\n",
    "            release_year,\n",
    "            genre,\n",
    "            publisher\n",
    "        FROM\n",
    "            RankedGames\n",
    "        WHERE\n",
    "            other_rank = 1\n",
    "        UNION ALL\n",
    "        SELECT\n",
    "            'Global' AS best_in,\n",
    "            game_name,\n",
    "            release_year,\n",
    "            genre,\n",
    "            publisher\n",
    "        FROM\n",
    "            RankedGames\n",
    "        WHERE\n",
    "            global_rank = 1;\n",
    "    \"\"\", \n",
    "    con=conn\n",
    ")"
   ]
  },
  {
   "cell_type": "markdown",
   "metadata": {},
   "source": [
    "Começamos a query criando uma tabela auxiliar chamada RankedGames que mostra os dados que queremos em cada um dos jogos e cria colunas que mostram qual a posição do jogo (usando a função [ROW_NUMBER](https://www.postgresql.org/docs/current/functions-window.html)) quando ordenamos videogame_sales usando cada uma das colunas de vendas (na_sales, eu_sales, jp_sales, other_sales, global_sales).<br>\n",
    "Depois, fazemos 5 consultas nessa tabela auxiliar para pegar cada um dos jogos que estão na posição 1 em cada uma dessas ordenações, criamos uma coluna best_in para dizer em qual região esse jogo foi o melhor e \"colamos\" essas tabelas de 1 linha umas nas outras usando UNION ALL. "
   ]
  }
 ],
 "metadata": {
  "kernelspec": {
   "display_name": "Python 3.8.10 64-bit",
   "language": "python",
   "name": "python3"
  },
  "language_info": {
   "codemirror_mode": {
    "name": "ipython",
    "version": 3
   },
   "file_extension": ".py",
   "mimetype": "text/x-python",
   "name": "python",
   "nbconvert_exporter": "python",
   "pygments_lexer": "ipython3",
   "version": "3.8.10"
  },
  "orig_nbformat": 4,
  "vscode": {
   "interpreter": {
    "hash": "916dbcbb3f70747c44a77c7bcd40155683ae19c65e1c03b4aa3499c5328201f1"
   }
  }
 },
 "nbformat": 4,
 "nbformat_minor": 2
}
