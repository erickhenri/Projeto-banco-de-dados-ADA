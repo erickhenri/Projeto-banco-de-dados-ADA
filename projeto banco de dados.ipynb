{
 "cells": [
  {
   "cell_type": "markdown",
   "metadata": {},
   "source": [
    "# Projeto Banco de Dados I\n",
    "### Professor Rogério Mainardes\n",
    "### Alunos Erick Henrique e Paulo Vitor "
   ]
  },
  {
   "cell_type": "markdown",
   "metadata": {},
   "source": [
    "Esse projeto consiste na análise descritiva e de 10 perguntas que serão respondidas através do uso de SQL para um dataset.\n",
    "O dataset escolhido está disponível no [github](https://github.com/ValdisW/datasets/blob/master/video-game-sales.csv)."
   ]
  },
  {
   "cell_type": "markdown",
   "metadata": {},
   "source": [
    "Os dados escolhidos mostram as vendas de jogos de videogame lançados entre 1980 e 2020 que tiveram mais de 100.000 vendas nas regiões América do Norte, União Europeia, Japão ou outros (resto do mundo)."
   ]
  },
  {
   "cell_type": "code",
   "execution_count": 1,
   "metadata": {
    "vscode": {
     "languageId": "sql"
    }
   },
   "outputs": [],
   "source": [
    "-- Criação da tabela videogame_sales no postgres\n",
    "CREATE TABLE videogame_sales(\n",
    "    ranking integer,\n",
    "    game_name varchar(200),\n",
    "    platform varchar(20),\n",
    "    release_year smallint,\n",
    "    genre varchar(20),\n",
    "    publisher varchar(50),\n",
    "    na_sales real,\n",
    "    eu_sales real,\n",
    "    jp_sales real,\n",
    "    other_sales real,\n",
    "    global_sales real\n",
    ");"
   ]
  },
  {
   "cell_type": "code",
   "execution_count": null,
   "metadata": {
    "vscode": {
     "languageId": "sql"
    }
   },
   "outputs": [],
   "source": [
    "-- cópia dos dados do arquivo videogame-sales para o postgres\n",
    "COPY videogame_sales \n",
    "FROM 'C:\\video-game-sales.csv'\n",
    "WITH(\n",
    "    FORMAT csv,\n",
    "    DELIMITER ',', \n",
    "    HEADER,\n",
    "    NULL 'N/A'\n",
    ");"
   ]
  }
 ],
 "metadata": {
  "kernelspec": {
   "display_name": "Python 3.8.10 64-bit",
   "language": "python",
   "name": "python3"
  },
  "language_info": {
   "codemirror_mode": {
    "name": "ipython",
    "version": 3
   },
   "file_extension": ".py",
   "mimetype": "text/x-python",
   "name": "python",
   "nbconvert_exporter": "python",
   "pygments_lexer": "ipython3",
   "version": "3.8.10"
  },
  "orig_nbformat": 4,
  "vscode": {
   "interpreter": {
    "hash": "916dbcbb3f70747c44a77c7bcd40155683ae19c65e1c03b4aa3499c5328201f1"
   }
  }
 },
 "nbformat": 4,
 "nbformat_minor": 2
}
